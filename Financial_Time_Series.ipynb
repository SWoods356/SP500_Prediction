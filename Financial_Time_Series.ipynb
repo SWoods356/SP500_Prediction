{
 "cells": [
  {
   "cell_type": "code",
   "execution_count": 82,
   "id": "076e844d",
   "metadata": {},
   "outputs": [],
   "source": [
    "# load up modules\n",
    "import numpy as np\n",
    "import tensorflow as tf\n",
    "from tensorflow import keras\n",
    "from tensorflow.keras.models import Sequential\n",
    "from tensorflow.keras.layers import Activation, Dense, Flatten, BatchNormalization, Conv2D, MaxPool2D, LSTM\n",
    "from tensorflow.keras.optimizers import Adam\n",
    "from tensorflow.keras.metrics import categorical_crossentropy\n",
    "from tensorflow.keras.preprocessing.image import ImageDataGenerator\n",
    "from sklearn.metrics import confusion_matrix\n",
    "import itertools\n",
    "import os\n",
    "import shutil\n",
    "import random\n",
    "import glob\n",
    "import matplotlib.pyplot as plt\n",
    "import warnings\n",
    "warnings.simplefilter(action='ignore', category=FutureWarning)\n",
    "%matplotlib inline"
   ]
  },
  {
   "cell_type": "code",
   "execution_count": 37,
   "id": "d761d10d",
   "metadata": {},
   "outputs": [],
   "source": [
    "# Set up notebook to display multiple outputs in one cell\n",
    "from IPython.core.interactiveshell import InteractiveShell\n",
    "InteractiveShell.ast_node_interactivity = \"all\""
   ]
  },
  {
   "cell_type": "code",
   "execution_count": 7,
   "id": "8feca2b1",
   "metadata": {},
   "outputs": [
    {
     "name": "stdout",
     "output_type": "stream",
     "text": [
      "Collecting keras\n",
      "  Downloading keras-2.8.0-py2.py3-none-any.whl (1.4 MB)\n",
      "Installing collected packages: keras\n",
      "Successfully installed keras-2.8.0\n"
     ]
    }
   ],
   "source": [
    "!pip install keras"
   ]
  },
  {
   "cell_type": "code",
   "execution_count": 16,
   "id": "41fc9e70",
   "metadata": {},
   "outputs": [
    {
     "name": "stdout",
     "output_type": "stream",
     "text": [
      "Requirement already satisfied: keras-tuner in c:\\users\\stephen\\anaconda3\\lib\\site-packages (1.1.0)\n",
      "Requirement already satisfied: scipy in c:\\users\\stephen\\anaconda3\\lib\\site-packages (from keras-tuner) (1.7.1)\n",
      "Requirement already satisfied: tensorboard in c:\\users\\stephen\\anaconda3\\lib\\site-packages (from keras-tuner) (2.8.0)\n",
      "Requirement already satisfied: requests in c:\\users\\stephen\\anaconda3\\lib\\site-packages (from keras-tuner) (2.26.0)\n",
      "Requirement already satisfied: packaging in c:\\users\\stephen\\anaconda3\\lib\\site-packages (from keras-tuner) (21.0)\n",
      "Requirement already satisfied: kt-legacy in c:\\users\\stephen\\anaconda3\\lib\\site-packages (from keras-tuner) (1.0.4)\n",
      "Requirement already satisfied: numpy in c:\\users\\stephen\\anaconda3\\lib\\site-packages (from keras-tuner) (1.20.3)\n",
      "Requirement already satisfied: ipython in c:\\users\\stephen\\anaconda3\\lib\\site-packages (from keras-tuner) (7.29.0)\n",
      "Requirement already satisfied: backcall in c:\\users\\stephen\\anaconda3\\lib\\site-packages (from ipython->keras-tuner) (0.2.0)\n",
      "Requirement already satisfied: jedi>=0.16 in c:\\users\\stephen\\anaconda3\\lib\\site-packages (from ipython->keras-tuner) (0.18.0)\n",
      "Requirement already satisfied: pickleshare in c:\\users\\stephen\\anaconda3\\lib\\site-packages (from ipython->keras-tuner) (0.7.5)\n",
      "Requirement already satisfied: colorama in c:\\users\\stephen\\anaconda3\\lib\\site-packages (from ipython->keras-tuner) (0.4.4)\n",
      "Requirement already satisfied: setuptools>=18.5 in c:\\users\\stephen\\anaconda3\\lib\\site-packages (from ipython->keras-tuner) (58.0.4)\n",
      "Requirement already satisfied: prompt-toolkit!=3.0.0,!=3.0.1,<3.1.0,>=2.0.0 in c:\\users\\stephen\\anaconda3\\lib\\site-packages (from ipython->keras-tuner) (3.0.20)\n",
      "Requirement already satisfied: matplotlib-inline in c:\\users\\stephen\\anaconda3\\lib\\site-packages (from ipython->keras-tuner) (0.1.2)\n",
      "Requirement already satisfied: decorator in c:\\users\\stephen\\anaconda3\\lib\\site-packages (from ipython->keras-tuner) (5.1.0)\n",
      "Requirement already satisfied: traitlets>=4.2 in c:\\users\\stephen\\anaconda3\\lib\\site-packages (from ipython->keras-tuner) (5.1.0)\n",
      "Requirement already satisfied: pygments in c:\\users\\stephen\\anaconda3\\lib\\site-packages (from ipython->keras-tuner) (2.10.0)\n",
      "Requirement already satisfied: parso<0.9.0,>=0.8.0 in c:\\users\\stephen\\anaconda3\\lib\\site-packages (from jedi>=0.16->ipython->keras-tuner) (0.8.2)\n",
      "Requirement already satisfied: wcwidth in c:\\users\\stephen\\anaconda3\\lib\\site-packages (from prompt-toolkit!=3.0.0,!=3.0.1,<3.1.0,>=2.0.0->ipython->keras-tuner) (0.2.5)\n",
      "Requirement already satisfied: pyparsing>=2.0.2 in c:\\users\\stephen\\anaconda3\\lib\\site-packages (from packaging->keras-tuner) (3.0.4)\n",
      "Requirement already satisfied: charset-normalizer~=2.0.0 in c:\\users\\stephen\\anaconda3\\lib\\site-packages (from requests->keras-tuner) (2.0.4)\n",
      "Requirement already satisfied: urllib3<1.27,>=1.21.1 in c:\\users\\stephen\\anaconda3\\lib\\site-packages (from requests->keras-tuner) (1.26.7)\n",
      "Requirement already satisfied: idna<4,>=2.5 in c:\\users\\stephen\\anaconda3\\lib\\site-packages (from requests->keras-tuner) (3.2)\n",
      "Requirement already satisfied: certifi>=2017.4.17 in c:\\users\\stephen\\anaconda3\\lib\\site-packages (from requests->keras-tuner) (2021.10.8)\n",
      "Requirement already satisfied: google-auth<3,>=1.6.3 in c:\\users\\stephen\\anaconda3\\lib\\site-packages (from tensorboard->keras-tuner) (2.6.0)\n",
      "Requirement already satisfied: tensorboard-plugin-wit>=1.6.0 in c:\\users\\stephen\\anaconda3\\lib\\site-packages (from tensorboard->keras-tuner) (1.8.1)\n",
      "Requirement already satisfied: wheel>=0.26 in c:\\users\\stephen\\anaconda3\\lib\\site-packages (from tensorboard->keras-tuner) (0.37.0)\n",
      "Requirement already satisfied: tensorboard-data-server<0.7.0,>=0.6.0 in c:\\users\\stephen\\anaconda3\\lib\\site-packages (from tensorboard->keras-tuner) (0.6.1)\n",
      "Requirement already satisfied: google-auth-oauthlib<0.5,>=0.4.1 in c:\\users\\stephen\\anaconda3\\lib\\site-packages (from tensorboard->keras-tuner) (0.4.6)\n",
      "Requirement already satisfied: protobuf>=3.6.0 in c:\\users\\stephen\\anaconda3\\lib\\site-packages (from tensorboard->keras-tuner) (3.19.4)\n",
      "Requirement already satisfied: markdown>=2.6.8 in c:\\users\\stephen\\anaconda3\\lib\\site-packages (from tensorboard->keras-tuner) (3.3.6)\n",
      "Requirement already satisfied: absl-py>=0.4 in c:\\users\\stephen\\anaconda3\\lib\\site-packages (from tensorboard->keras-tuner) (1.0.0)\n",
      "Requirement already satisfied: werkzeug>=0.11.15 in c:\\users\\stephen\\anaconda3\\lib\\site-packages (from tensorboard->keras-tuner) (2.0.2)\n",
      "Requirement already satisfied: grpcio>=1.24.3 in c:\\users\\stephen\\anaconda3\\lib\\site-packages (from tensorboard->keras-tuner) (1.44.0)\n",
      "Requirement already satisfied: six in c:\\users\\stephen\\anaconda3\\lib\\site-packages (from absl-py>=0.4->tensorboard->keras-tuner) (1.16.0)\n",
      "Requirement already satisfied: rsa<5,>=3.1.4 in c:\\users\\stephen\\anaconda3\\lib\\site-packages (from google-auth<3,>=1.6.3->tensorboard->keras-tuner) (4.8)\n",
      "Requirement already satisfied: pyasn1-modules>=0.2.1 in c:\\users\\stephen\\anaconda3\\lib\\site-packages (from google-auth<3,>=1.6.3->tensorboard->keras-tuner) (0.2.8)\n",
      "Requirement already satisfied: cachetools<6.0,>=2.0.0 in c:\\users\\stephen\\anaconda3\\lib\\site-packages (from google-auth<3,>=1.6.3->tensorboard->keras-tuner) (5.0.0)\n",
      "Requirement already satisfied: requests-oauthlib>=0.7.0 in c:\\users\\stephen\\anaconda3\\lib\\site-packages (from google-auth-oauthlib<0.5,>=0.4.1->tensorboard->keras-tuner) (1.3.1)\n",
      "Requirement already satisfied: importlib-metadata>=4.4 in c:\\users\\stephen\\anaconda3\\lib\\site-packages (from markdown>=2.6.8->tensorboard->keras-tuner) (4.8.1)\n",
      "Requirement already satisfied: zipp>=0.5 in c:\\users\\stephen\\anaconda3\\lib\\site-packages (from importlib-metadata>=4.4->markdown>=2.6.8->tensorboard->keras-tuner) (3.6.0)\n",
      "Requirement already satisfied: pyasn1<0.5.0,>=0.4.6 in c:\\users\\stephen\\anaconda3\\lib\\site-packages (from pyasn1-modules>=0.2.1->google-auth<3,>=1.6.3->tensorboard->keras-tuner) (0.4.8)\n",
      "Requirement already satisfied: oauthlib>=3.0.0 in c:\\users\\stephen\\anaconda3\\lib\\site-packages (from requests-oauthlib>=0.7.0->google-auth-oauthlib<0.5,>=0.4.1->tensorboard->keras-tuner) (3.2.0)\n"
     ]
    }
   ],
   "source": [
    "!pip install keras-tuner"
   ]
  },
  {
   "cell_type": "code",
   "execution_count": 3,
   "id": "ff6322eb",
   "metadata": {},
   "outputs": [
    {
     "name": "stdout",
     "output_type": "stream",
     "text": [
      "Collecting yfinance\n",
      "  Downloading yfinance-0.1.70-py2.py3-none-any.whl (26 kB)\n",
      "Requirement already satisfied: lxml>=4.5.1 in c:\\users\\stephen\\anaconda3\\lib\\site-packages (from yfinance) (4.6.3)\n",
      "Collecting multitasking>=0.0.7\n",
      "  Downloading multitasking-0.0.10.tar.gz (8.2 kB)\n",
      "Requirement already satisfied: numpy>=1.15 in c:\\users\\stephen\\anaconda3\\lib\\site-packages (from yfinance) (1.20.3)\n",
      "Requirement already satisfied: requests>=2.26 in c:\\users\\stephen\\anaconda3\\lib\\site-packages (from yfinance) (2.26.0)\n",
      "Requirement already satisfied: pandas>=0.24.0 in c:\\users\\stephen\\anaconda3\\lib\\site-packages (from yfinance) (1.3.4)\n",
      "Requirement already satisfied: python-dateutil>=2.7.3 in c:\\users\\stephen\\anaconda3\\lib\\site-packages (from pandas>=0.24.0->yfinance) (2.8.2)\n",
      "Requirement already satisfied: pytz>=2017.3 in c:\\users\\stephen\\anaconda3\\lib\\site-packages (from pandas>=0.24.0->yfinance) (2021.3)\n",
      "Requirement already satisfied: six>=1.5 in c:\\users\\stephen\\anaconda3\\lib\\site-packages (from python-dateutil>=2.7.3->pandas>=0.24.0->yfinance) (1.16.0)\n",
      "Requirement already satisfied: certifi>=2017.4.17 in c:\\users\\stephen\\anaconda3\\lib\\site-packages (from requests>=2.26->yfinance) (2021.10.8)\n",
      "Requirement already satisfied: charset-normalizer~=2.0.0 in c:\\users\\stephen\\anaconda3\\lib\\site-packages (from requests>=2.26->yfinance) (2.0.4)\n",
      "Requirement already satisfied: idna<4,>=2.5 in c:\\users\\stephen\\anaconda3\\lib\\site-packages (from requests>=2.26->yfinance) (3.2)\n",
      "Requirement already satisfied: urllib3<1.27,>=1.21.1 in c:\\users\\stephen\\anaconda3\\lib\\site-packages (from requests>=2.26->yfinance) (1.26.7)\n",
      "Building wheels for collected packages: multitasking\n",
      "  Building wheel for multitasking (setup.py): started\n",
      "  Building wheel for multitasking (setup.py): finished with status 'done'\n",
      "  Created wheel for multitasking: filename=multitasking-0.0.10-py3-none-any.whl size=8500 sha256=dbcbacdaf6510df7ffaa6441537af2c7847b36cd16a88c05e7e69da35d4225ca\n",
      "  Stored in directory: c:\\users\\stephen\\appdata\\local\\pip\\cache\\wheels\\f2\\b5\\2c\\59ba95dcf854e542944c75fe3da584e4e3833b319735a0546c\n",
      "Successfully built multitasking\n",
      "Installing collected packages: multitasking, yfinance\n",
      "Successfully installed multitasking-0.0.10 yfinance-0.1.70\n"
     ]
    }
   ],
   "source": [
    "!pip install yfinance"
   ]
  },
  {
   "cell_type": "code",
   "execution_count": 4,
   "id": "ada1a8f6",
   "metadata": {},
   "outputs": [],
   "source": [
    "import pandas as pd\n",
    "import yfinance as yf\n",
    "import datetime\n",
    "import time\n",
    "import requests\n",
    "import io"
   ]
  },
  {
   "cell_type": "code",
   "execution_count": 5,
   "id": "fbe5cef6",
   "metadata": {},
   "outputs": [],
   "source": [
    "start = datetime.datetime(2020,2,1)\n",
    "end = datetime.datetime(2020,10,11)"
   ]
  },
  {
   "cell_type": "code",
   "execution_count": 11,
   "id": "03733972",
   "metadata": {},
   "outputs": [
    {
     "data": {
      "text/plain": [
       "datetime.date(2017, 3, 3)"
      ]
     },
     "execution_count": 11,
     "metadata": {},
     "output_type": "execute_result"
    }
   ],
   "source": [
    "from datetime import date\n",
    "from datetime import timedelta\n",
    "from dateutil.relativedelta import relativedelta\n",
    "\n",
    "today = date.today()\n",
    "today - relativedelta(years=5)"
   ]
  },
  {
   "cell_type": "code",
   "execution_count": 20,
   "id": "61e1a4b1",
   "metadata": {},
   "outputs": [],
   "source": [
    "start = datetime.datetime(2017,3,2)\n",
    "end = datetime.datetime(2022,3,3)"
   ]
  },
  {
   "cell_type": "code",
   "execution_count": 21,
   "id": "26e25cef",
   "metadata": {},
   "outputs": [
    {
     "name": "stdout",
     "output_type": "stream",
     "text": [
      "0 : ^GSPC,"
     ]
    }
   ],
   "source": [
    "\n",
    "Symbols = ['^GSPC']\n",
    "\n",
    "# create empty dataframe\n",
    "stock_final = pd.DataFrame()\n",
    "# iterate over each symbol\n",
    "for i in Symbols:  \n",
    "    \n",
    "    # print the symbol which is being downloaded\n",
    "    print( str(Symbols.index(i)) + str(' : ') + i, sep=',', end=',', flush=True)  \n",
    "    \n",
    "    try:\n",
    "        # download the stock price \n",
    "        stock = []\n",
    "        stock = yf.download(i,start=start, end=end, progress=False)\n",
    "        \n",
    "        # append the individual stock prices \n",
    "        if len(stock) == 0:\n",
    "            None\n",
    "        else:\n",
    "            stock['Name']=i\n",
    "            stock_final = stock_final.append(stock,sort=False)\n",
    "    except Exception:\n",
    "        None"
   ]
  },
  {
   "cell_type": "code",
   "execution_count": 22,
   "id": "3e517d3e",
   "metadata": {},
   "outputs": [
    {
     "data": {
      "text/html": [
       "<div>\n",
       "<style scoped>\n",
       "    .dataframe tbody tr th:only-of-type {\n",
       "        vertical-align: middle;\n",
       "    }\n",
       "\n",
       "    .dataframe tbody tr th {\n",
       "        vertical-align: top;\n",
       "    }\n",
       "\n",
       "    .dataframe thead th {\n",
       "        text-align: right;\n",
       "    }\n",
       "</style>\n",
       "<table border=\"1\" class=\"dataframe\">\n",
       "  <thead>\n",
       "    <tr style=\"text-align: right;\">\n",
       "      <th></th>\n",
       "      <th>Open</th>\n",
       "      <th>High</th>\n",
       "      <th>Low</th>\n",
       "      <th>Close</th>\n",
       "      <th>Adj Close</th>\n",
       "      <th>Volume</th>\n",
       "      <th>Name</th>\n",
       "    </tr>\n",
       "    <tr>\n",
       "      <th>Date</th>\n",
       "      <th></th>\n",
       "      <th></th>\n",
       "      <th></th>\n",
       "      <th></th>\n",
       "      <th></th>\n",
       "      <th></th>\n",
       "      <th></th>\n",
       "    </tr>\n",
       "  </thead>\n",
       "  <tbody>\n",
       "    <tr>\n",
       "      <th>2017-03-02</th>\n",
       "      <td>2394.750000</td>\n",
       "      <td>2394.750000</td>\n",
       "      <td>2380.169922</td>\n",
       "      <td>2381.919922</td>\n",
       "      <td>2381.919922</td>\n",
       "      <td>3821320000</td>\n",
       "      <td>^GSPC</td>\n",
       "    </tr>\n",
       "    <tr>\n",
       "      <th>2017-03-03</th>\n",
       "      <td>2380.919922</td>\n",
       "      <td>2383.889893</td>\n",
       "      <td>2375.389893</td>\n",
       "      <td>2383.120117</td>\n",
       "      <td>2383.120117</td>\n",
       "      <td>3555260000</td>\n",
       "      <td>^GSPC</td>\n",
       "    </tr>\n",
       "    <tr>\n",
       "      <th>2017-03-06</th>\n",
       "      <td>2375.229980</td>\n",
       "      <td>2378.800049</td>\n",
       "      <td>2367.979980</td>\n",
       "      <td>2375.310059</td>\n",
       "      <td>2375.310059</td>\n",
       "      <td>3232700000</td>\n",
       "      <td>^GSPC</td>\n",
       "    </tr>\n",
       "    <tr>\n",
       "      <th>2017-03-07</th>\n",
       "      <td>2370.739990</td>\n",
       "      <td>2375.120117</td>\n",
       "      <td>2365.510010</td>\n",
       "      <td>2368.389893</td>\n",
       "      <td>2368.389893</td>\n",
       "      <td>3518390000</td>\n",
       "      <td>^GSPC</td>\n",
       "    </tr>\n",
       "    <tr>\n",
       "      <th>2017-03-08</th>\n",
       "      <td>2369.810059</td>\n",
       "      <td>2373.090088</td>\n",
       "      <td>2361.010010</td>\n",
       "      <td>2362.979980</td>\n",
       "      <td>2362.979980</td>\n",
       "      <td>3812100000</td>\n",
       "      <td>^GSPC</td>\n",
       "    </tr>\n",
       "    <tr>\n",
       "      <th>...</th>\n",
       "      <td>...</td>\n",
       "      <td>...</td>\n",
       "      <td>...</td>\n",
       "      <td>...</td>\n",
       "      <td>...</td>\n",
       "      <td>...</td>\n",
       "      <td>...</td>\n",
       "    </tr>\n",
       "    <tr>\n",
       "      <th>2022-02-24</th>\n",
       "      <td>4155.770020</td>\n",
       "      <td>4294.729980</td>\n",
       "      <td>4114.649902</td>\n",
       "      <td>4288.700195</td>\n",
       "      <td>4288.700195</td>\n",
       "      <td>5070560000</td>\n",
       "      <td>^GSPC</td>\n",
       "    </tr>\n",
       "    <tr>\n",
       "      <th>2022-02-25</th>\n",
       "      <td>4298.379883</td>\n",
       "      <td>4385.339844</td>\n",
       "      <td>4286.830078</td>\n",
       "      <td>4384.649902</td>\n",
       "      <td>4384.649902</td>\n",
       "      <td>3941780000</td>\n",
       "      <td>^GSPC</td>\n",
       "    </tr>\n",
       "    <tr>\n",
       "      <th>2022-02-28</th>\n",
       "      <td>4354.169922</td>\n",
       "      <td>4388.839844</td>\n",
       "      <td>4315.120117</td>\n",
       "      <td>4373.939941</td>\n",
       "      <td>4373.939941</td>\n",
       "      <td>4594010000</td>\n",
       "      <td>^GSPC</td>\n",
       "    </tr>\n",
       "    <tr>\n",
       "      <th>2022-03-01</th>\n",
       "      <td>4363.140137</td>\n",
       "      <td>4378.450195</td>\n",
       "      <td>4279.540039</td>\n",
       "      <td>4306.259766</td>\n",
       "      <td>4306.259766</td>\n",
       "      <td>4679400000</td>\n",
       "      <td>^GSPC</td>\n",
       "    </tr>\n",
       "    <tr>\n",
       "      <th>2022-03-02</th>\n",
       "      <td>4322.560059</td>\n",
       "      <td>4401.479980</td>\n",
       "      <td>4322.560059</td>\n",
       "      <td>4386.540039</td>\n",
       "      <td>4386.540039</td>\n",
       "      <td>4409090000</td>\n",
       "      <td>^GSPC</td>\n",
       "    </tr>\n",
       "  </tbody>\n",
       "</table>\n",
       "<p>1260 rows × 7 columns</p>\n",
       "</div>"
      ],
      "text/plain": [
       "                   Open         High          Low        Close    Adj Close  \\\n",
       "Date                                                                          \n",
       "2017-03-02  2394.750000  2394.750000  2380.169922  2381.919922  2381.919922   \n",
       "2017-03-03  2380.919922  2383.889893  2375.389893  2383.120117  2383.120117   \n",
       "2017-03-06  2375.229980  2378.800049  2367.979980  2375.310059  2375.310059   \n",
       "2017-03-07  2370.739990  2375.120117  2365.510010  2368.389893  2368.389893   \n",
       "2017-03-08  2369.810059  2373.090088  2361.010010  2362.979980  2362.979980   \n",
       "...                 ...          ...          ...          ...          ...   \n",
       "2022-02-24  4155.770020  4294.729980  4114.649902  4288.700195  4288.700195   \n",
       "2022-02-25  4298.379883  4385.339844  4286.830078  4384.649902  4384.649902   \n",
       "2022-02-28  4354.169922  4388.839844  4315.120117  4373.939941  4373.939941   \n",
       "2022-03-01  4363.140137  4378.450195  4279.540039  4306.259766  4306.259766   \n",
       "2022-03-02  4322.560059  4401.479980  4322.560059  4386.540039  4386.540039   \n",
       "\n",
       "                Volume   Name  \n",
       "Date                           \n",
       "2017-03-02  3821320000  ^GSPC  \n",
       "2017-03-03  3555260000  ^GSPC  \n",
       "2017-03-06  3232700000  ^GSPC  \n",
       "2017-03-07  3518390000  ^GSPC  \n",
       "2017-03-08  3812100000  ^GSPC  \n",
       "...                ...    ...  \n",
       "2022-02-24  5070560000  ^GSPC  \n",
       "2022-02-25  3941780000  ^GSPC  \n",
       "2022-02-28  4594010000  ^GSPC  \n",
       "2022-03-01  4679400000  ^GSPC  \n",
       "2022-03-02  4409090000  ^GSPC  \n",
       "\n",
       "[1260 rows x 7 columns]"
      ]
     },
     "execution_count": 22,
     "metadata": {},
     "output_type": "execute_result"
    }
   ],
   "source": [
    "stock_final"
   ]
  },
  {
   "cell_type": "code",
   "execution_count": 26,
   "id": "977b1110",
   "metadata": {},
   "outputs": [
    {
     "data": {
      "text/html": [
       "<div>\n",
       "<style scoped>\n",
       "    .dataframe tbody tr th:only-of-type {\n",
       "        vertical-align: middle;\n",
       "    }\n",
       "\n",
       "    .dataframe tbody tr th {\n",
       "        vertical-align: top;\n",
       "    }\n",
       "\n",
       "    .dataframe thead th {\n",
       "        text-align: right;\n",
       "    }\n",
       "</style>\n",
       "<table border=\"1\" class=\"dataframe\">\n",
       "  <thead>\n",
       "    <tr style=\"text-align: right;\">\n",
       "      <th></th>\n",
       "      <th>Adj Close</th>\n",
       "      <th>Volume</th>\n",
       "    </tr>\n",
       "    <tr>\n",
       "      <th>Date</th>\n",
       "      <th></th>\n",
       "      <th></th>\n",
       "    </tr>\n",
       "  </thead>\n",
       "  <tbody>\n",
       "    <tr>\n",
       "      <th>2017-03-02</th>\n",
       "      <td>2381.919922</td>\n",
       "      <td>3821320000</td>\n",
       "    </tr>\n",
       "    <tr>\n",
       "      <th>2017-03-03</th>\n",
       "      <td>2383.120117</td>\n",
       "      <td>3555260000</td>\n",
       "    </tr>\n",
       "    <tr>\n",
       "      <th>2017-03-06</th>\n",
       "      <td>2375.310059</td>\n",
       "      <td>3232700000</td>\n",
       "    </tr>\n",
       "    <tr>\n",
       "      <th>2017-03-07</th>\n",
       "      <td>2368.389893</td>\n",
       "      <td>3518390000</td>\n",
       "    </tr>\n",
       "    <tr>\n",
       "      <th>2017-03-08</th>\n",
       "      <td>2362.979980</td>\n",
       "      <td>3812100000</td>\n",
       "    </tr>\n",
       "  </tbody>\n",
       "</table>\n",
       "</div>"
      ],
      "text/plain": [
       "              Adj Close      Volume\n",
       "Date                               \n",
       "2017-03-02  2381.919922  3821320000\n",
       "2017-03-03  2383.120117  3555260000\n",
       "2017-03-06  2375.310059  3232700000\n",
       "2017-03-07  2368.389893  3518390000\n",
       "2017-03-08  2362.979980  3812100000"
      ]
     },
     "execution_count": 26,
     "metadata": {},
     "output_type": "execute_result"
    }
   ],
   "source": [
    "df = stock_final.filter(['Date','Adj Close', 'Volume'], axis=1)\n",
    "\n",
    "df.head()"
   ]
  },
  {
   "cell_type": "code",
   "execution_count": 31,
   "id": "df1314cb",
   "metadata": {},
   "outputs": [
    {
     "data": {
      "text/plain": [
       "<AxesSubplot:title={'center':'Adjusted Closing SP500'}, xlabel='Date'>"
      ]
     },
     "execution_count": 31,
     "metadata": {},
     "output_type": "execute_result"
    },
    {
     "data": {
      "image/png": "[encoded data removed]",
      "text/plain": [
       "<Figure size 720x576 with 1 Axes>"
      ]
     },
     "metadata": {
      "needs_background": "light"
     },
     "output_type": "display_data"
    }
   ],
   "source": [
    "df['Adj Close'].plot(figsize=(10,8), title = 'Adjusted Closing SP500')"
   ]
  },
  {
   "cell_type": "code",
   "execution_count": 28,
   "id": "65bd988d",
   "metadata": {},
   "outputs": [
    {
     "data": {
      "text/plain": [
       "<AxesSubplot:xlabel='Date'>"
      ]
     },
     "execution_count": 28,
     "metadata": {},
     "output_type": "execute_result"
    },
    {
     "data": {
      "image/png": "[encoded data removed]",
      "text/plain": [
       "<Figure size 432x288 with 1 Axes>"
      ]
     },
     "metadata": {
      "needs_background": "light"
     },
     "output_type": "display_data"
    }
   ],
   "source": [
    "df['Volume'].plot()"
   ]
  },
  {
   "cell_type": "code",
   "execution_count": 33,
   "id": "b6a85408",
   "metadata": {},
   "outputs": [
    {
     "name": "stdout",
     "output_type": "stream",
     "text": [
      "<class 'pandas.core.frame.DataFrame'>\n",
      "DatetimeIndex: 1260 entries, 2017-03-02 to 2022-03-02\n",
      "Data columns (total 2 columns):\n",
      " #   Column     Non-Null Count  Dtype  \n",
      "---  ------     --------------  -----  \n",
      " 0   Adj Close  1260 non-null   float64\n",
      " 1   Volume     1260 non-null   int64  \n",
      "dtypes: float64(1), int64(1)\n",
      "memory usage: 29.5 KB\n"
     ]
    },
    {
     "data": {
      "text/html": [
       "<div>\n",
       "<style scoped>\n",
       "    .dataframe tbody tr th:only-of-type {\n",
       "        vertical-align: middle;\n",
       "    }\n",
       "\n",
       "    .dataframe tbody tr th {\n",
       "        vertical-align: top;\n",
       "    }\n",
       "\n",
       "    .dataframe thead th {\n",
       "        text-align: right;\n",
       "    }\n",
       "</style>\n",
       "<table border=\"1\" class=\"dataframe\">\n",
       "  <thead>\n",
       "    <tr style=\"text-align: right;\">\n",
       "      <th></th>\n",
       "      <th>Adj Close</th>\n",
       "      <th>Volume</th>\n",
       "    </tr>\n",
       "  </thead>\n",
       "  <tbody>\n",
       "    <tr>\n",
       "      <th>count</th>\n",
       "      <td>1260.000000</td>\n",
       "      <td>1.260000e+03</td>\n",
       "    </tr>\n",
       "    <tr>\n",
       "      <th>mean</th>\n",
       "      <td>3191.651276</td>\n",
       "      <td>3.868666e+09</td>\n",
       "    </tr>\n",
       "    <tr>\n",
       "      <th>std</th>\n",
       "      <td>690.211618</td>\n",
       "      <td>1.067300e+09</td>\n",
       "    </tr>\n",
       "    <tr>\n",
       "      <th>min</th>\n",
       "      <td>2237.399902</td>\n",
       "      <td>1.296540e+09</td>\n",
       "    </tr>\n",
       "    <tr>\n",
       "      <th>25%</th>\n",
       "      <td>2694.637390</td>\n",
       "      <td>3.234158e+09</td>\n",
       "    </tr>\n",
       "    <tr>\n",
       "      <th>50%</th>\n",
       "      <td>2921.169922</td>\n",
       "      <td>3.590000e+09</td>\n",
       "    </tr>\n",
       "    <tr>\n",
       "      <th>75%</th>\n",
       "      <td>3640.635071</td>\n",
       "      <td>4.156200e+09</td>\n",
       "    </tr>\n",
       "    <tr>\n",
       "      <th>max</th>\n",
       "      <td>4796.560059</td>\n",
       "      <td>9.878040e+09</td>\n",
       "    </tr>\n",
       "  </tbody>\n",
       "</table>\n",
       "</div>"
      ],
      "text/plain": [
       "         Adj Close        Volume\n",
       "count  1260.000000  1.260000e+03\n",
       "mean   3191.651276  3.868666e+09\n",
       "std     690.211618  1.067300e+09\n",
       "min    2237.399902  1.296540e+09\n",
       "25%    2694.637390  3.234158e+09\n",
       "50%    2921.169922  3.590000e+09\n",
       "75%    3640.635071  4.156200e+09\n",
       "max    4796.560059  9.878040e+09"
      ]
     },
     "execution_count": 33,
     "metadata": {},
     "output_type": "execute_result"
    }
   ],
   "source": [
    "df.info()\n",
    "df.describe()"
   ]
  },
  {
   "cell_type": "code",
   "execution_count": 34,
   "id": "174c2f23",
   "metadata": {},
   "outputs": [],
   "source": [
    "#Add bollinger bands\n",
    "\n",
    "df['middle_band'] = df['Adj Close'].rolling(window=20).mean()\n",
    "df['upper_band'] = df['Adj Close'].rolling(window=20).mean() + df['Adj Close'].rolling(window=20).std()*2\n",
    "df['lower_band'] = df['Adj Close'].rolling(window=20).mean() - df['Adj Close'].rolling(window=20).std()*2"
   ]
  },
  {
   "cell_type": "code",
   "execution_count": 38,
   "id": "5af97a20",
   "metadata": {},
   "outputs": [
    {
     "data": {
      "text/plain": [
       "<Figure size 720x720 with 0 Axes>"
      ]
     },
     "execution_count": 38,
     "metadata": {},
     "output_type": "execute_result"
    },
    {
     "data": {
      "text/plain": [
       "[<matplotlib.lines.Line2D at 0x21ea3aa6910>]"
      ]
     },
     "execution_count": 38,
     "metadata": {},
     "output_type": "execute_result"
    },
    {
     "data": {
      "text/plain": [
       "[<matplotlib.lines.Line2D at 0x21eaccf7c70>]"
      ]
     },
     "execution_count": 38,
     "metadata": {},
     "output_type": "execute_result"
    },
    {
     "data": {
      "text/plain": [
       "[<matplotlib.lines.Line2D at 0x21eacd0c160>]"
      ]
     },
     "execution_count": 38,
     "metadata": {},
     "output_type": "execute_result"
    },
    {
     "data": {
      "text/plain": [
       "[<matplotlib.lines.Line2D at 0x21eacd0c4f0>]"
      ]
     },
     "execution_count": 38,
     "metadata": {},
     "output_type": "execute_result"
    },
    {
     "data": {
      "text/plain": [
       "<matplotlib.legend.Legend at 0x21eaccf7a30>"
      ]
     },
     "execution_count": 38,
     "metadata": {},
     "output_type": "execute_result"
    },
    {
     "data": {
      "image/png": "[encoded data removed]",
      "text/plain": [
       "<Figure size 720x720 with 1 Axes>"
      ]
     },
     "metadata": {
      "needs_background": "light"
     },
     "output_type": "display_data"
    }
   ],
   "source": [
    "plt.figure(figsize=(10,10))\n",
    "plt.plot(df['upper_band'], 'g--', label=\"upper\")\n",
    "plt.plot(df['middle_band'], 'r--', label=\"middle\")\n",
    "plt.plot(df['lower_band'], 'y--', label=\"lower\")\n",
    "plt.plot(df['Adj Close'], label=\"close\")\n",
    "plt.legend()\n",
    "plt.show()"
   ]
  },
  {
   "cell_type": "code",
   "execution_count": 39,
   "id": "082e4792",
   "metadata": {},
   "outputs": [
    {
     "data": {
      "text/plain": [
       "<Figure size 720x720 with 0 Axes>"
      ]
     },
     "execution_count": 39,
     "metadata": {},
     "output_type": "execute_result"
    },
    {
     "data": {
      "text/plain": [
       "[<matplotlib.lines.Line2D at 0x21eacd6f1f0>]"
      ]
     },
     "execution_count": 39,
     "metadata": {},
     "output_type": "execute_result"
    },
    {
     "data": {
      "text/plain": [
       "[<matplotlib.lines.Line2D at 0x21eacdab070>]"
      ]
     },
     "execution_count": 39,
     "metadata": {},
     "output_type": "execute_result"
    },
    {
     "data": {
      "text/plain": [
       "[<matplotlib.lines.Line2D at 0x21eacdab430>]"
      ]
     },
     "execution_count": 39,
     "metadata": {},
     "output_type": "execute_result"
    },
    {
     "data": {
      "text/plain": [
       "[<matplotlib.lines.Line2D at 0x21eacdab7c0>]"
      ]
     },
     "execution_count": 39,
     "metadata": {},
     "output_type": "execute_result"
    },
    {
     "data": {
      "text/plain": [
       "<matplotlib.legend.Legend at 0x21eacd36520>"
      ]
     },
     "execution_count": 39,
     "metadata": {},
     "output_type": "execute_result"
    },
    {
     "data": {
      "image/png": "[encoded data removed]",
      "text/plain": [
       "<Figure size 720x720 with 1 Axes>"
      ]
     },
     "metadata": {
      "needs_background": "light"
     },
     "output_type": "display_data"
    }
   ],
   "source": [
    "#Plot Bollinger Bands\n",
    "\n",
    "plt.figure(figsize=(10,10))\n",
    "plt.plot(df['upper_band'].iloc[-200:], 'g--', label=\"upper\")\n",
    "plt.plot(df['middle_band'].iloc[-200:], 'r--', label=\"middle\")\n",
    "plt.plot(df['lower_band'].iloc[-200:], 'y--', label=\"lower\")\n",
    "plt.plot(df['Adj Close'].iloc[-200:], label=\"close\")\n",
    "plt.legend()\n",
    "plt.show()"
   ]
  },
  {
   "cell_type": "code",
   "execution_count": 70,
   "id": "7f987484",
   "metadata": {},
   "outputs": [],
   "source": [
    "#Prepare data for training/modeling\n",
    "\n",
    "df1 = stock_final.filter(['Date','Adj Close'], axis=1)\n",
    "\n",
    "#Normalize Data\n",
    "from sklearn import preprocessing\n",
    "\n",
    "x = df1[['Adj Close']].values #returns a numpy array\n",
    "min_max_scaler = preprocessing.MinMaxScaler()\n",
    "\n",
    "\n",
    "df1['close'] = min_max_scaler.fit_transform(x)\n",
    "\n",
    "df = df1.filter(['Date','close'], axis=1)\n",
    "\n",
    "\n",
    "scaled_data = df[['close']].values"
   ]
  },
  {
   "cell_type": "code",
   "execution_count": 74,
   "id": "43dce9b3",
   "metadata": {},
   "outputs": [
    {
     "data": {
      "text/plain": [
       "1008"
      ]
     },
     "execution_count": 74,
     "metadata": {},
     "output_type": "execute_result"
    },
    {
     "data": {
      "text/plain": [
       "1008"
      ]
     },
     "execution_count": 74,
     "metadata": {},
     "output_type": "execute_result"
    },
    {
     "data": {
      "text/plain": [
       "252"
      ]
     },
     "execution_count": 74,
     "metadata": {},
     "output_type": "execute_result"
    },
    {
     "data": {
      "text/plain": [
       "252"
      ]
     },
     "execution_count": 74,
     "metadata": {},
     "output_type": "execute_result"
    }
   ],
   "source": [
    "#break out training and testing data\n",
    "\n",
    "trainlen = int(len(df)*.80)\n",
    "\n",
    "testlen = len(df) - trainlen\n",
    "\n",
    "train_data = scaled_data[0:trainlen, :]\n",
    "\n",
    "trainlen\n",
    "len(train_data)\n",
    "\n",
    "test_data = scaled_data[trainlen-60:, :]\n",
    "\n",
    "testlen\n",
    "len(test_data)\n"
   ]
  },
  {
   "cell_type": "code",
   "execution_count": 75,
   "id": "48a62457",
   "metadata": {},
   "outputs": [],
   "source": [
    "# break out training data into x and y\n",
    "\n",
    "x_train = []\n",
    "y_train = []\n",
    "\n",
    "for i in range(60,len(train_data)):\n",
    "    x_train.append(train_data[i-60:i,0])\n",
    "    y_train.append(train_data[i,0])"
   ]
  },
  {
   "cell_type": "code",
   "execution_count": 79,
   "id": "2f0b27b8",
   "metadata": {},
   "outputs": [],
   "source": [
    "#convert to numpy arrays\n",
    "\n",
    "x_train, y_train = np.array(x_train), np.array(y_train)"
   ]
  },
  {
   "cell_type": "code",
   "execution_count": 80,
   "id": "ff4a2e07",
   "metadata": {},
   "outputs": [
    {
     "data": {
      "text/plain": [
       "(948, 60, 1)"
      ]
     },
     "execution_count": 80,
     "metadata": {},
     "output_type": "execute_result"
    }
   ],
   "source": [
    "#Reshape data\n",
    "\n",
    "x_train = np.reshape(x_train, (x_train.shape[0], x_train.shape[1],1))\n",
    "x_train.shape"
   ]
  },
  {
   "cell_type": "code",
   "execution_count": 175,
   "id": "58e509ee",
   "metadata": {},
   "outputs": [],
   "source": [
    "#Build LSTM Model\n",
    "\n",
    "model = Sequential()\n",
    "model.add(LSTM(50, return_sequences=True, input_shape=(x_train.shape[1],1)))\n",
    "model.add(LSTM(50, return_sequences=False))\n",
    "model.add(Dense(25))\n",
    "model.add(Dense(1))"
   ]
  },
  {
   "cell_type": "code",
   "execution_count": 176,
   "id": "2f25889a",
   "metadata": {},
   "outputs": [
    {
     "name": "stdout",
     "output_type": "stream",
     "text": [
      "Model: \"sequential_3\"\n",
      "_________________________________________________________________\n",
      " Layer (type)                Output Shape              Param #   \n",
      "=================================================================\n",
      " lstm_5 (LSTM)               (None, 60, 50)            10400     \n",
      "                                                                 \n",
      " lstm_6 (LSTM)               (None, 50)                20200     \n",
      "                                                                 \n",
      " dense_3 (Dense)             (None, 25)                1275      \n",
      "                                                                 \n",
      " dense_4 (Dense)             (None, 1)                 26        \n",
      "                                                                 \n",
      "=================================================================\n",
      "Total params: 31,901\n",
      "Trainable params: 31,901\n",
      "Non-trainable params: 0\n",
      "_________________________________________________________________\n"
     ]
    }
   ],
   "source": [
    "model.summary()"
   ]
  },
  {
   "cell_type": "code",
   "execution_count": 177,
   "id": "a49e946a",
   "metadata": {},
   "outputs": [],
   "source": [
    "#Compile the model\n",
    "\n",
    "model.compile(optimizer='adam', loss='mean_squared_error')"
   ]
  },
  {
   "cell_type": "code",
   "execution_count": 178,
   "id": "1f838c09",
   "metadata": {},
   "outputs": [
    {
     "name": "stdout",
     "output_type": "stream",
     "text": [
      "Epoch 1/20\n",
      "10/10 [==============================] - 2s 31ms/step - loss: 0.0305\n",
      "Epoch 2/20\n",
      "10/10 [==============================] - 0s 31ms/step - loss: 0.0059\n",
      "Epoch 3/20\n",
      "10/10 [==============================] - 0s 31ms/step - loss: 0.0029\n",
      "Epoch 4/20\n",
      "10/10 [==============================] - 0s 31ms/step - loss: 0.0017\n",
      "Epoch 5/20\n",
      "10/10 [==============================] - 0s 31ms/step - loss: 0.0013\n",
      "Epoch 6/20\n",
      "10/10 [==============================] - 0s 31ms/step - loss: 0.0011\n",
      "Epoch 7/20\n",
      "10/10 [==============================] - 0s 33ms/step - loss: 0.0011\n",
      "Epoch 8/20\n",
      "10/10 [==============================] - 0s 32ms/step - loss: 9.9273e-04\n",
      "Epoch 9/20\n",
      "10/10 [==============================] - 0s 31ms/step - loss: 9.7230e-04\n",
      "Epoch 10/20\n",
      "10/10 [==============================] - 0s 31ms/step - loss: 9.5788e-04\n",
      "Epoch 11/20\n",
      "10/10 [==============================] - 0s 31ms/step - loss: 9.4442e-04\n",
      "Epoch 12/20\n",
      "10/10 [==============================] - 0s 31ms/step - loss: 9.0352e-04\n",
      "Epoch 13/20\n",
      "10/10 [==============================] - 0s 31ms/step - loss: 8.9389e-04\n",
      "Epoch 14/20\n",
      "10/10 [==============================] - 0s 31ms/step - loss: 8.6633e-04\n",
      "Epoch 15/20\n",
      "10/10 [==============================] - 0s 31ms/step - loss: 8.4012e-04\n",
      "Epoch 16/20\n",
      "10/10 [==============================] - 0s 31ms/step - loss: 8.1884e-04\n",
      "Epoch 17/20\n",
      "10/10 [==============================] - 0s 31ms/step - loss: 7.9727e-04\n",
      "Epoch 18/20\n",
      "10/10 [==============================] - 0s 32ms/step - loss: 7.6543e-04\n",
      "Epoch 19/20\n",
      "10/10 [==============================] - 0s 30ms/step - loss: 7.4643e-04\n",
      "Epoch 20/20\n",
      "10/10 [==============================] - 0s 32ms/step - loss: 7.2778e-04\n"
     ]
    },
    {
     "data": {
      "text/plain": [
       "<keras.callbacks.History at 0x21ec5d73d00>"
      ]
     },
     "execution_count": 178,
     "metadata": {},
     "output_type": "execute_result"
    }
   ],
   "source": [
    "#Train\n",
    "model.fit(x_train, y_train, batch_size=100, epochs=20)\n",
    "\n"
   ]
  },
  {
   "cell_type": "code",
   "execution_count": 180,
   "id": "a503cdfa",
   "metadata": {},
   "outputs": [],
   "source": [
    "model1 = model"
   ]
  },
  {
   "cell_type": "code",
   "execution_count": 89,
   "id": "c0038ff0",
   "metadata": {},
   "outputs": [],
   "source": [
    "#Format test data\n",
    "\n",
    "test_data = scaled_data[trainlen-60:, :]\n",
    "\n",
    "#create x test and y test\n",
    "x_test = []\n",
    "y_test = x[trainlen:, :]\n",
    "\n",
    "for i in range(60,len(test_data)):\n",
    "    x_test.append(test_data[i-60:i,0])"
   ]
  },
  {
   "cell_type": "code",
   "execution_count": 90,
   "id": "dc090f01",
   "metadata": {},
   "outputs": [],
   "source": [
    "#convert to numpy arrays\n",
    "\n",
    "x_test = np.array(x_test)"
   ]
  },
  {
   "cell_type": "code",
   "execution_count": 91,
   "id": "e48015cf",
   "metadata": {},
   "outputs": [],
   "source": [
    "x_test = np.reshape(x_test, (x_test.shape[0], x_test.shape[1], 1))"
   ]
  },
  {
   "cell_type": "code",
   "execution_count": 152,
   "id": "508daf8e",
   "metadata": {},
   "outputs": [
    {
     "data": {
      "text/plain": [
       "(252, 60, 1)"
      ]
     },
     "execution_count": 152,
     "metadata": {},
     "output_type": "execute_result"
    },
    {
     "data": {
      "text/plain": [
       "(252, 1)"
      ]
     },
     "execution_count": 152,
     "metadata": {},
     "output_type": "execute_result"
    }
   ],
   "source": [
    "x_test.shape\n",
    "y_test.shape"
   ]
  },
  {
   "cell_type": "code",
   "execution_count": 96,
   "id": "b776527c",
   "metadata": {},
   "outputs": [],
   "source": [
    "predictions = model.predict(x_test)\n",
    "predictions = min_max_scaler.inverse_transform(predictions)"
   ]
  },
  {
   "cell_type": "code",
   "execution_count": 137,
   "id": "604a8a92",
   "metadata": {},
   "outputs": [
    {
     "data": {
      "text/plain": [
       "179.06019493275696"
      ]
     },
     "execution_count": 137,
     "metadata": {},
     "output_type": "execute_result"
    }
   ],
   "source": [
    "# Get RMSE\n",
    "\n",
    "import math\n",
    "from sklearn.metrics import mean_squared_error\n",
    "\n",
    "math.sqrt(mean_squared_error(y_test, predictions))"
   ]
  },
  {
   "cell_type": "code",
   "execution_count": 111,
   "id": "990c5eb1",
   "metadata": {},
   "outputs": [
    {
     "name": "stderr",
     "output_type": "stream",
     "text": [
      "C:\\Users\\Stephen\\AppData\\Local\\Temp/ipykernel_28856/3141232054.py:5: SettingWithCopyWarning: \n",
      "A value is trying to be set on a copy of a slice from a DataFrame.\n",
      "Try using .loc[row_indexer,col_indexer] = value instead\n",
      "\n",
      "See the caveats in the documentation: https://pandas.pydata.org/pandas-docs/stable/user_guide/indexing.html#returning-a-view-versus-a-copy\n",
      "  valid['Predictions'] = predictions\n"
     ]
    },
    {
     "data": {
      "image/png": "[encoded data removed]",
      "text/plain": [
       "<Figure size 1152x576 with 1 Axes>"
      ]
     },
     "metadata": {
      "needs_background": "light"
     },
     "output_type": "display_data"
    }
   ],
   "source": [
    "#break data for plotting\n",
    "\n",
    "train = df1[:trainlen]\n",
    "valid = df1[trainlen:]\n",
    "valid['Predictions'] = predictions\n",
    "\n",
    "\n",
    "#Plot Data\n",
    "\n",
    "plt.figure(figsize=(16,8))\n",
    "plt.title('Model')\n",
    "plt.xlabel('Date', fontsize=18)\n",
    "plt.ylabel('Close Price USD $', fontsize=18)\n",
    "plt.plot(train['Adj Close'])\n",
    "plt.plot(valid[['Adj Close', 'Predictions']])\n",
    "plt.legend(['Train', 'Val', 'Predictions'])\n",
    "plt.show();"
   ]
  },
  {
   "cell_type": "code",
   "execution_count": 112,
   "id": "57283add",
   "metadata": {},
   "outputs": [
    {
     "data": {
      "text/html": [
       "<div>\n",
       "<style scoped>\n",
       "    .dataframe tbody tr th:only-of-type {\n",
       "        vertical-align: middle;\n",
       "    }\n",
       "\n",
       "    .dataframe tbody tr th {\n",
       "        vertical-align: top;\n",
       "    }\n",
       "\n",
       "    .dataframe thead th {\n",
       "        text-align: right;\n",
       "    }\n",
       "</style>\n",
       "<table border=\"1\" class=\"dataframe\">\n",
       "  <thead>\n",
       "    <tr style=\"text-align: right;\">\n",
       "      <th></th>\n",
       "      <th>Adj Close</th>\n",
       "      <th>close</th>\n",
       "      <th>Predictions</th>\n",
       "    </tr>\n",
       "    <tr>\n",
       "      <th>Date</th>\n",
       "      <th></th>\n",
       "      <th></th>\n",
       "      <th></th>\n",
       "    </tr>\n",
       "  </thead>\n",
       "  <tbody>\n",
       "    <tr>\n",
       "      <th>2021-03-04</th>\n",
       "      <td>3768.469971</td>\n",
       "      <td>0.598271</td>\n",
       "      <td>3751.284180</td>\n",
       "    </tr>\n",
       "    <tr>\n",
       "      <th>2021-03-05</th>\n",
       "      <td>3841.939941</td>\n",
       "      <td>0.626979</td>\n",
       "      <td>3737.319336</td>\n",
       "    </tr>\n",
       "    <tr>\n",
       "      <th>2021-03-08</th>\n",
       "      <td>3821.350098</td>\n",
       "      <td>0.618934</td>\n",
       "      <td>3729.202881</td>\n",
       "    </tr>\n",
       "    <tr>\n",
       "      <th>2021-03-09</th>\n",
       "      <td>3875.439941</td>\n",
       "      <td>0.640069</td>\n",
       "      <td>3722.787109</td>\n",
       "    </tr>\n",
       "    <tr>\n",
       "      <th>2021-03-10</th>\n",
       "      <td>3898.810059</td>\n",
       "      <td>0.649201</td>\n",
       "      <td>3723.769775</td>\n",
       "    </tr>\n",
       "    <tr>\n",
       "      <th>...</th>\n",
       "      <td>...</td>\n",
       "      <td>...</td>\n",
       "      <td>...</td>\n",
       "    </tr>\n",
       "    <tr>\n",
       "      <th>2022-02-24</th>\n",
       "      <td>4288.700195</td>\n",
       "      <td>0.801552</td>\n",
       "      <td>4216.395996</td>\n",
       "    </tr>\n",
       "    <tr>\n",
       "      <th>2022-02-25</th>\n",
       "      <td>4384.649902</td>\n",
       "      <td>0.839045</td>\n",
       "      <td>4189.761719</td>\n",
       "    </tr>\n",
       "    <tr>\n",
       "      <th>2022-02-28</th>\n",
       "      <td>4373.939941</td>\n",
       "      <td>0.834860</td>\n",
       "      <td>4179.208496</td>\n",
       "    </tr>\n",
       "    <tr>\n",
       "      <th>2022-03-01</th>\n",
       "      <td>4306.259766</td>\n",
       "      <td>0.808414</td>\n",
       "      <td>4177.130859</td>\n",
       "    </tr>\n",
       "    <tr>\n",
       "      <th>2022-03-02</th>\n",
       "      <td>4386.540039</td>\n",
       "      <td>0.839783</td>\n",
       "      <td>4173.011230</td>\n",
       "    </tr>\n",
       "  </tbody>\n",
       "</table>\n",
       "<p>252 rows × 3 columns</p>\n",
       "</div>"
      ],
      "text/plain": [
       "              Adj Close     close  Predictions\n",
       "Date                                          \n",
       "2021-03-04  3768.469971  0.598271  3751.284180\n",
       "2021-03-05  3841.939941  0.626979  3737.319336\n",
       "2021-03-08  3821.350098  0.618934  3729.202881\n",
       "2021-03-09  3875.439941  0.640069  3722.787109\n",
       "2021-03-10  3898.810059  0.649201  3723.769775\n",
       "...                 ...       ...          ...\n",
       "2022-02-24  4288.700195  0.801552  4216.395996\n",
       "2022-02-25  4384.649902  0.839045  4189.761719\n",
       "2022-02-28  4373.939941  0.834860  4179.208496\n",
       "2022-03-01  4306.259766  0.808414  4177.130859\n",
       "2022-03-02  4386.540039  0.839783  4173.011230\n",
       "\n",
       "[252 rows x 3 columns]"
      ]
     },
     "execution_count": 112,
     "metadata": {},
     "output_type": "execute_result"
    }
   ],
   "source": [
    "valid"
   ]
  },
  {
   "cell_type": "code",
   "execution_count": 113,
   "id": "48753bb4",
   "metadata": {},
   "outputs": [],
   "source": [
    "# Modify RNN\n",
    "model = Sequential()\n",
    "model.add(LSTM(50, return_sequences=True, input_shape=(x_train.shape[1],1)))\n",
    "model.add(LSTM(50, return_sequences=True))\n",
    "model.add(LSTM(50))\n",
    "model.add(Dense(1))\n",
    "model.compile(loss='mean_squared_error', optimizer='adam')\n"
   ]
  },
  {
   "cell_type": "code",
   "execution_count": 114,
   "id": "8d50828e",
   "metadata": {},
   "outputs": [
    {
     "name": "stdout",
     "output_type": "stream",
     "text": [
      "Model: \"sequential_2\"\n",
      "_________________________________________________________________\n",
      " Layer (type)                Output Shape              Param #   \n",
      "=================================================================\n",
      " lstm_2 (LSTM)               (None, 60, 50)            10400     \n",
      "                                                                 \n",
      " lstm_3 (LSTM)               (None, 60, 50)            20200     \n",
      "                                                                 \n",
      " lstm_4 (LSTM)               (None, 50)                20200     \n",
      "                                                                 \n",
      " dense_2 (Dense)             (None, 1)                 51        \n",
      "                                                                 \n",
      "=================================================================\n",
      "Total params: 50,851\n",
      "Trainable params: 50,851\n",
      "Non-trainable params: 0\n",
      "_________________________________________________________________\n"
     ]
    }
   ],
   "source": [
    "model.summary()"
   ]
  },
  {
   "cell_type": "code",
   "execution_count": 115,
   "id": "162b749d",
   "metadata": {},
   "outputs": [
    {
     "name": "stdout",
     "output_type": "stream",
     "text": [
      "Epoch 1/20\n",
      "19/19 [==============================] - 3s 30ms/step - loss: 0.0222\n",
      "Epoch 2/20\n",
      "19/19 [==============================] - 1s 30ms/step - loss: 0.0040\n",
      "Epoch 3/20\n",
      "19/19 [==============================] - 1s 30ms/step - loss: 0.0017\n",
      "Epoch 4/20\n",
      "19/19 [==============================] - 1s 30ms/step - loss: 0.0015\n",
      "Epoch 5/20\n",
      "19/19 [==============================] - 1s 30ms/step - loss: 0.0014\n",
      "Epoch 6/20\n",
      "19/19 [==============================] - 1s 30ms/step - loss: 0.0014\n",
      "Epoch 7/20\n",
      "19/19 [==============================] - 1s 32ms/step - loss: 0.0012\n",
      "Epoch 8/20\n",
      "19/19 [==============================] - 1s 30ms/step - loss: 0.0012\n",
      "Epoch 9/20\n",
      "19/19 [==============================] - 1s 30ms/step - loss: 0.0011\n",
      "Epoch 10/20\n",
      "19/19 [==============================] - 1s 30ms/step - loss: 0.0010\n",
      "Epoch 11/20\n",
      "19/19 [==============================] - 1s 30ms/step - loss: 9.9401e-04\n",
      "Epoch 12/20\n",
      "19/19 [==============================] - 1s 30ms/step - loss: 9.1790e-04\n",
      "Epoch 13/20\n",
      "19/19 [==============================] - 1s 30ms/step - loss: 8.9690e-04\n",
      "Epoch 14/20\n",
      "19/19 [==============================] - 1s 31ms/step - loss: 9.1056e-04\n",
      "Epoch 15/20\n",
      "19/19 [==============================] - 1s 30ms/step - loss: 8.2010e-04\n",
      "Epoch 16/20\n",
      "19/19 [==============================] - 1s 30ms/step - loss: 8.3102e-04\n",
      "Epoch 17/20\n",
      "19/19 [==============================] - 1s 30ms/step - loss: 8.0093e-04\n",
      "Epoch 18/20\n",
      "19/19 [==============================] - 1s 31ms/step - loss: 7.8109e-04\n",
      "Epoch 19/20\n",
      "19/19 [==============================] - 1s 32ms/step - loss: 7.2826e-04\n",
      "Epoch 20/20\n",
      "19/19 [==============================] - 1s 31ms/step - loss: 7.0612e-04\n"
     ]
    },
    {
     "data": {
      "text/plain": [
       "<keras.callbacks.History at 0x21ebae64220>"
      ]
     },
     "execution_count": 115,
     "metadata": {},
     "output_type": "execute_result"
    }
   ],
   "source": [
    "model.fit(x_train, y_train, batch_size=50, epochs=20, verbose=1)"
   ]
  },
  {
   "cell_type": "code",
   "execution_count": 130,
   "id": "906476aa",
   "metadata": {},
   "outputs": [
    {
     "data": {
      "text/plain": [
       "(948, 1)"
      ]
     },
     "execution_count": 130,
     "metadata": {},
     "output_type": "execute_result"
    }
   ],
   "source": [
    "train_predict = model.predict(x_train)\n",
    "test_predict = model.predict(x_test)\n",
    "\n",
    "train_predict.shape"
   ]
  },
  {
   "cell_type": "code",
   "execution_count": 132,
   "id": "21cd30f4",
   "metadata": {},
   "outputs": [],
   "source": [
    "y_train_compare = np.reshape(y_train, (y_train.shape[0], 1))"
   ]
  },
  {
   "cell_type": "code",
   "execution_count": 133,
   "id": "dae9c361",
   "metadata": {},
   "outputs": [
    {
     "data": {
      "text/plain": [
       "(948, 1)"
      ]
     },
     "execution_count": 133,
     "metadata": {},
     "output_type": "execute_result"
    }
   ],
   "source": [
    "y_train_compare.shape"
   ]
  },
  {
   "cell_type": "code",
   "execution_count": 134,
   "id": "a8c203e6",
   "metadata": {},
   "outputs": [],
   "source": [
    "train_predict = min_max_scaler.inverse_transform(train_predict)\n",
    "test_predict = min_max_scaler.inverse_transform(test_predict)\n",
    "\n",
    "y_train_compare = min_max_scaler.inverse_transform(y_train_compare)"
   ]
  },
  {
   "cell_type": "code",
   "execution_count": 136,
   "id": "5f008d68",
   "metadata": {},
   "outputs": [
    {
     "data": {
      "text/plain": [
       "66.57599155322991"
      ]
     },
     "execution_count": 136,
     "metadata": {},
     "output_type": "execute_result"
    },
    {
     "data": {
      "text/plain": [
       "122.35071877228127"
      ]
     },
     "execution_count": 136,
     "metadata": {},
     "output_type": "execute_result"
    }
   ],
   "source": [
    "#Train RMSE\n",
    "np.sqrt(mean_squared_error(y_train_compare, train_predict))\n",
    "\n",
    "#Test RMSE\n",
    "np.sqrt(mean_squared_error(y_test, test_predict))"
   ]
  },
  {
   "cell_type": "code",
   "execution_count": 131,
   "id": "9e95ed34",
   "metadata": {},
   "outputs": [
    {
     "data": {
      "text/plain": [
       "(948,)"
      ]
     },
     "execution_count": 131,
     "metadata": {},
     "output_type": "execute_result"
    }
   ],
   "source": [
    "y_train.shape"
   ]
  },
  {
   "cell_type": "code",
   "execution_count": 187,
   "id": "87f5f307",
   "metadata": {},
   "outputs": [
    {
     "name": "stderr",
     "output_type": "stream",
     "text": [
      "C:\\Users\\Stephen\\AppData\\Local\\Temp/ipykernel_28856/1813431524.py:5: SettingWithCopyWarning: \n",
      "A value is trying to be set on a copy of a slice from a DataFrame.\n",
      "Try using .loc[row_indexer,col_indexer] = value instead\n",
      "\n",
      "See the caveats in the documentation: https://pandas.pydata.org/pandas-docs/stable/user_guide/indexing.html#returning-a-view-versus-a-copy\n",
      "  valid['Predictions2'] = test_predict\n",
      "C:\\Users\\Stephen\\AppData\\Local\\Temp/ipykernel_28856/1813431524.py:6: SettingWithCopyWarning: \n",
      "A value is trying to be set on a copy of a slice from a DataFrame.\n",
      "Try using .loc[row_indexer,col_indexer] = value instead\n",
      "\n",
      "See the caveats in the documentation: https://pandas.pydata.org/pandas-docs/stable/user_guide/indexing.html#returning-a-view-versus-a-copy\n",
      "  train['Predictions1'] = train_predict\n"
     ]
    },
    {
     "data": {
      "image/png": "[encoded data removed]",
      "text/plain": [
       "<Figure size 1152x576 with 1 Axes>"
      ]
     },
     "metadata": {
      "needs_background": "light"
     },
     "output_type": "display_data"
    }
   ],
   "source": [
    "#break data for plotting\n",
    "\n",
    "train = df1[60:trainlen]\n",
    "valid = df1[trainlen:]\n",
    "valid['Predictions2'] = test_predict\n",
    "train['Predictions1'] = train_predict\n",
    "\n",
    "#Plot Data\n",
    "\n",
    "plt.figure(figsize=(16,8))\n",
    "plt.title('Model')\n",
    "plt.xlabel('Date', fontsize=18)\n",
    "plt.ylabel('Close Price USD $', fontsize=18)\n",
    "plt.plot(train[['Adj Close', 'Predictions1']])\n",
    "plt.plot(valid[['Adj Close', 'Predictions2']])\n",
    "plt.legend(['Train', 'Predictions1', 'Val', 'Predictions2'])\n",
    "plt.show();"
   ]
  },
  {
   "cell_type": "markdown",
   "id": "a94794f2",
   "metadata": {},
   "source": [
    "Predict Data for next 30 days"
   ]
  },
  {
   "cell_type": "code",
   "execution_count": 155,
   "id": "24f184e6",
   "metadata": {},
   "outputs": [
    {
     "data": {
      "text/plain": [
       "(312, 1)"
      ]
     },
     "execution_count": 155,
     "metadata": {},
     "output_type": "execute_result"
    },
    {
     "data": {
      "text/plain": [
       "252"
      ]
     },
     "execution_count": 155,
     "metadata": {},
     "output_type": "execute_result"
    }
   ],
   "source": [
    "test_data.shape\n",
    "\n",
    "312-60"
   ]
  },
  {
   "cell_type": "code",
   "execution_count": 156,
   "id": "e8dc7afb",
   "metadata": {},
   "outputs": [
    {
     "data": {
      "text/plain": [
       "(1, 60)"
      ]
     },
     "execution_count": 156,
     "metadata": {},
     "output_type": "execute_result"
    }
   ],
   "source": [
    "x_input = test_data[252:].reshape(1,-1)\n",
    "\n",
    "x_input.shape"
   ]
  },
  {
   "cell_type": "code",
   "execution_count": 159,
   "id": "4f51c6fc",
   "metadata": {},
   "outputs": [],
   "source": [
    "temp_input=list(x_input)\n",
    "temp_input=temp_input[0].tolist()"
   ]
  },
  {
   "cell_type": "code",
   "execution_count": 160,
   "id": "2da14c7f",
   "metadata": {},
   "outputs": [
    {
     "data": {
      "text/plain": [
       "[0.9199385250593379,\n",
       " 0.9570913690862328,\n",
       " 0.9627416449793555,\n",
       " 0.9495499087988155,\n",
       " 0.9669657098810187,\n",
       " 0.9501438612826167,\n",
       " 0.9365142449381434,\n",
       " 0.9661178059818818,\n",
       " 0.9500265208465302,\n",
       " 0.93125872898366,\n",
       " 0.910697250227049,\n",
       " 0.942430301688939,\n",
       " 0.9609246807958542,\n",
       " 0.9723463889673278,\n",
       " 0.9979016095673476,\n",
       " 0.9960104251730533,\n",
       " 0.9986323638278547,\n",
       " 0.9930328400583075,\n",
       " 0.9881289638171702,\n",
       " 1.0,\n",
       " 0.9988199177281365,\n",
       " 0.9624955162597593,\n",
       " 0.9607252974532354,\n",
       " 0.9532931641087086,\n",
       " 0.9506595868090268,\n",
       " 0.9673759244136793,\n",
       " 0.9725652336505659,\n",
       " 0.9462596066519624,\n",
       " 0.9477524059559332,\n",
       " 0.9142491356875195,\n",
       " 0.8969191934609895,\n",
       " 0.8773698952140365,\n",
       " 0.8442379167970449,\n",
       " 0.8490011753123354,\n",
       " 0.8280256660739225,\n",
       " 0.8254779476299139,\n",
       " 0.8163263476024392,\n",
       " 0.857488418594357,\n",
       " 0.8901943462897526,\n",
       " 0.9023038792938967,\n",
       " 0.9190436849857664,\n",
       " 0.8753027955643407,\n",
       " 0.8843252257133916,\n",
       " 0.8778154072762516,\n",
       " 0.8925350494928603,\n",
       " 0.9181841424417494,\n",
       " 0.8857125140236131,\n",
       " 0.8523265841912857,\n",
       " 0.8456954185714611,\n",
       " 0.8728136519396468,\n",
       " 0.8743531966205953,\n",
       " 0.8373293316746673,\n",
       " 0.8250637263506551,\n",
       " 0.8078274656755373,\n",
       " 0.776856459257111,\n",
       " 0.8015521373131138,\n",
       " 0.8390447916110173,\n",
       " 0.8348598401880498,\n",
       " 0.8084135954635996,\n",
       " 0.8397833685672635]"
      ]
     },
     "execution_count": 160,
     "metadata": {},
     "output_type": "execute_result"
    }
   ],
   "source": [
    "temp_input"
   ]
  },
  {
   "cell_type": "code",
   "execution_count": 162,
   "id": "e70af12e",
   "metadata": {},
   "outputs": [
    {
     "name": "stdout",
     "output_type": "stream",
     "text": [
      "[0.84682256]\n",
      "61\n",
      "1 day input [0.95709137 0.96274164 0.94954991 0.96696571 0.95014386 0.93651424\n",
      " 0.96611781 0.95002652 0.93125873 0.91069725 0.9424303  0.96092468\n",
      " 0.97234639 0.99790161 0.99601043 0.99863236 0.99303284 0.98812896\n",
      " 1.         0.99881992 0.96249552 0.9607253  0.95329316 0.95065959\n",
      " 0.96737592 0.97256523 0.94625961 0.94775241 0.91424914 0.89691919\n",
      " 0.8773699  0.84423792 0.84900118 0.82802567 0.82547795 0.81632635\n",
      " 0.85748842 0.89019435 0.90230388 0.91904368 0.8753028  0.88432523\n",
      " 0.87781541 0.89253505 0.91818414 0.88571251 0.85232658 0.84569542\n",
      " 0.87281365 0.8743532  0.83732933 0.82506373 0.80782747 0.77685646\n",
      " 0.80155214 0.83904479 0.83485984 0.8084136  0.83978337 0.84682256]\n",
      "1 day output [[0.8468799]]\n",
      "2 day input [0.96274164 0.94954991 0.96696571 0.95014386 0.93651424 0.96611781\n",
      " 0.95002652 0.93125873 0.91069725 0.9424303  0.96092468 0.97234639\n",
      " 0.99790161 0.99601043 0.99863236 0.99303284 0.98812896 1.\n",
      " 0.99881992 0.96249552 0.9607253  0.95329316 0.95065959 0.96737592\n",
      " 0.97256523 0.94625961 0.94775241 0.91424914 0.89691919 0.8773699\n",
      " 0.84423792 0.84900118 0.82802567 0.82547795 0.81632635 0.85748842\n",
      " 0.89019435 0.90230388 0.91904368 0.8753028  0.88432523 0.87781541\n",
      " 0.89253505 0.91818414 0.88571251 0.85232658 0.84569542 0.87281365\n",
      " 0.8743532  0.83732933 0.82506373 0.80782747 0.77685646 0.80155214\n",
      " 0.83904479 0.83485984 0.8084136  0.83978337 0.84682256 0.8468799 ]\n",
      "2 day output [[0.8498482]]\n",
      "3 day input [0.94954991 0.96696571 0.95014386 0.93651424 0.96611781 0.95002652\n",
      " 0.93125873 0.91069725 0.9424303  0.96092468 0.97234639 0.99790161\n",
      " 0.99601043 0.99863236 0.99303284 0.98812896 1.         0.99881992\n",
      " 0.96249552 0.9607253  0.95329316 0.95065959 0.96737592 0.97256523\n",
      " 0.94625961 0.94775241 0.91424914 0.89691919 0.8773699  0.84423792\n",
      " 0.84900118 0.82802567 0.82547795 0.81632635 0.85748842 0.89019435\n",
      " 0.90230388 0.91904368 0.8753028  0.88432523 0.87781541 0.89253505\n",
      " 0.91818414 0.88571251 0.85232658 0.84569542 0.87281365 0.8743532\n",
      " 0.83732933 0.82506373 0.80782747 0.77685646 0.80155214 0.83904479\n",
      " 0.83485984 0.8084136  0.83978337 0.84682256 0.8468799  0.84984821]\n",
      "3 day output [[0.855032]]\n",
      "4 day input [0.96696571 0.95014386 0.93651424 0.96611781 0.95002652 0.93125873\n",
      " 0.91069725 0.9424303  0.96092468 0.97234639 0.99790161 0.99601043\n",
      " 0.99863236 0.99303284 0.98812896 1.         0.99881992 0.96249552\n",
      " 0.9607253  0.95329316 0.95065959 0.96737592 0.97256523 0.94625961\n",
      " 0.94775241 0.91424914 0.89691919 0.8773699  0.84423792 0.84900118\n",
      " 0.82802567 0.82547795 0.81632635 0.85748842 0.89019435 0.90230388\n",
      " 0.91904368 0.8753028  0.88432523 0.87781541 0.89253505 0.91818414\n",
      " 0.88571251 0.85232658 0.84569542 0.87281365 0.8743532  0.83732933\n",
      " 0.82506373 0.80782747 0.77685646 0.80155214 0.83904479 0.83485984\n",
      " 0.8084136  0.83978337 0.84682256 0.8468799  0.84984821 0.85503203]\n",
      "4 day output [[0.8618205]]\n",
      "5 day input [0.95014386 0.93651424 0.96611781 0.95002652 0.93125873 0.91069725\n",
      " 0.9424303  0.96092468 0.97234639 0.99790161 0.99601043 0.99863236\n",
      " 0.99303284 0.98812896 1.         0.99881992 0.96249552 0.9607253\n",
      " 0.95329316 0.95065959 0.96737592 0.97256523 0.94625961 0.94775241\n",
      " 0.91424914 0.89691919 0.8773699  0.84423792 0.84900118 0.82802567\n",
      " 0.82547795 0.81632635 0.85748842 0.89019435 0.90230388 0.91904368\n",
      " 0.8753028  0.88432523 0.87781541 0.89253505 0.91818414 0.88571251\n",
      " 0.85232658 0.84569542 0.87281365 0.8743532  0.83732933 0.82506373\n",
      " 0.80782747 0.77685646 0.80155214 0.83904479 0.83485984 0.8084136\n",
      " 0.83978337 0.84682256 0.8468799  0.84984821 0.85503203 0.86182052]\n",
      "5 day output [[0.8697419]]\n",
      "6 day input [0.93651424 0.96611781 0.95002652 0.93125873 0.91069725 0.9424303\n",
      " 0.96092468 0.97234639 0.99790161 0.99601043 0.99863236 0.99303284\n",
      " 0.98812896 1.         0.99881992 0.96249552 0.9607253  0.95329316\n",
      " 0.95065959 0.96737592 0.97256523 0.94625961 0.94775241 0.91424914\n",
      " 0.89691919 0.8773699  0.84423792 0.84900118 0.82802567 0.82547795\n",
      " 0.81632635 0.85748842 0.89019435 0.90230388 0.91904368 0.8753028\n",
      " 0.88432523 0.87781541 0.89253505 0.91818414 0.88571251 0.85232658\n",
      " 0.84569542 0.87281365 0.8743532  0.83732933 0.82506373 0.80782747\n",
      " 0.77685646 0.80155214 0.83904479 0.83485984 0.8084136  0.83978337\n",
      " 0.84682256 0.8468799  0.84984821 0.85503203 0.86182052 0.86974192]\n",
      "6 day output [[0.87846875]]\n",
      "7 day input [0.96611781 0.95002652 0.93125873 0.91069725 0.9424303  0.96092468\n",
      " 0.97234639 0.99790161 0.99601043 0.99863236 0.99303284 0.98812896\n",
      " 1.         0.99881992 0.96249552 0.9607253  0.95329316 0.95065959\n",
      " 0.96737592 0.97256523 0.94625961 0.94775241 0.91424914 0.89691919\n",
      " 0.8773699  0.84423792 0.84900118 0.82802567 0.82547795 0.81632635\n",
      " 0.85748842 0.89019435 0.90230388 0.91904368 0.8753028  0.88432523\n",
      " 0.87781541 0.89253505 0.91818414 0.88571251 0.85232658 0.84569542\n",
      " 0.87281365 0.8743532  0.83732933 0.82506373 0.80782747 0.77685646\n",
      " 0.80155214 0.83904479 0.83485984 0.8084136  0.83978337 0.84682256\n",
      " 0.8468799  0.84984821 0.85503203 0.86182052 0.86974192 0.87846875]\n",
      "7 day output [[0.8877883]]\n",
      "8 day input [0.95002652 0.93125873 0.91069725 0.9424303  0.96092468 0.97234639\n",
      " 0.99790161 0.99601043 0.99863236 0.99303284 0.98812896 1.\n",
      " 0.99881992 0.96249552 0.9607253  0.95329316 0.95065959 0.96737592\n",
      " 0.97256523 0.94625961 0.94775241 0.91424914 0.89691919 0.8773699\n",
      " 0.84423792 0.84900118 0.82802567 0.82547795 0.81632635 0.85748842\n",
      " 0.89019435 0.90230388 0.91904368 0.8753028  0.88432523 0.87781541\n",
      " 0.89253505 0.91818414 0.88571251 0.85232658 0.84569542 0.87281365\n",
      " 0.8743532  0.83732933 0.82506373 0.80782747 0.77685646 0.80155214\n",
      " 0.83904479 0.83485984 0.8084136  0.83978337 0.84682256 0.8468799\n",
      " 0.84984821 0.85503203 0.86182052 0.86974192 0.87846875 0.8877883 ]\n",
      "8 day output [[0.89757276]]\n",
      "9 day input [0.93125873 0.91069725 0.9424303  0.96092468 0.97234639 0.99790161\n",
      " 0.99601043 0.99863236 0.99303284 0.98812896 1.         0.99881992\n",
      " 0.96249552 0.9607253  0.95329316 0.95065959 0.96737592 0.97256523\n",
      " 0.94625961 0.94775241 0.91424914 0.89691919 0.8773699  0.84423792\n",
      " 0.84900118 0.82802567 0.82547795 0.81632635 0.85748842 0.89019435\n",
      " 0.90230388 0.91904368 0.8753028  0.88432523 0.87781541 0.89253505\n",
      " 0.91818414 0.88571251 0.85232658 0.84569542 0.87281365 0.8743532\n",
      " 0.83732933 0.82506373 0.80782747 0.77685646 0.80155214 0.83904479\n",
      " 0.83485984 0.8084136  0.83978337 0.84682256 0.8468799  0.84984821\n",
      " 0.85503203 0.86182052 0.86974192 0.87846875 0.8877883  0.89757276]\n",
      "9 day output [[0.9077532]]\n",
      "10 day input [0.91069725 0.9424303  0.96092468 0.97234639 0.99790161 0.99601043\n",
      " 0.99863236 0.99303284 0.98812896 1.         0.99881992 0.96249552\n",
      " 0.9607253  0.95329316 0.95065959 0.96737592 0.97256523 0.94625961\n",
      " 0.94775241 0.91424914 0.89691919 0.8773699  0.84423792 0.84900118\n",
      " 0.82802567 0.82547795 0.81632635 0.85748842 0.89019435 0.90230388\n",
      " 0.91904368 0.8753028  0.88432523 0.87781541 0.89253505 0.91818414\n",
      " 0.88571251 0.85232658 0.84569542 0.87281365 0.8743532  0.83732933\n",
      " 0.82506373 0.80782747 0.77685646 0.80155214 0.83904479 0.83485984\n",
      " 0.8084136  0.83978337 0.84682256 0.8468799  0.84984821 0.85503203\n",
      " 0.86182052 0.86974192 0.87846875 0.8877883  0.89757276 0.90775323]\n",
      "10 day output [[0.9182942]]\n",
      "11 day input [0.9424303  0.96092468 0.97234639 0.99790161 0.99601043 0.99863236\n",
      " 0.99303284 0.98812896 1.         0.99881992 0.96249552 0.9607253\n",
      " 0.95329316 0.95065959 0.96737592 0.97256523 0.94625961 0.94775241\n",
      " 0.91424914 0.89691919 0.8773699  0.84423792 0.84900118 0.82802567\n",
      " 0.82547795 0.81632635 0.85748842 0.89019435 0.90230388 0.91904368\n",
      " 0.8753028  0.88432523 0.87781541 0.89253505 0.91818414 0.88571251\n",
      " 0.85232658 0.84569542 0.87281365 0.8743532  0.83732933 0.82506373\n",
      " 0.80782747 0.77685646 0.80155214 0.83904479 0.83485984 0.8084136\n",
      " 0.83978337 0.84682256 0.8468799  0.84984821 0.85503203 0.86182052\n",
      " 0.86974192 0.87846875 0.8877883  0.89757276 0.90775323 0.91829419]\n",
      "11 day output [[0.92917854]]\n",
      "12 day input [0.96092468 0.97234639 0.99790161 0.99601043 0.99863236 0.99303284\n",
      " 0.98812896 1.         0.99881992 0.96249552 0.9607253  0.95329316\n",
      " 0.95065959 0.96737592 0.97256523 0.94625961 0.94775241 0.91424914\n",
      " 0.89691919 0.8773699  0.84423792 0.84900118 0.82802567 0.82547795\n",
      " 0.81632635 0.85748842 0.89019435 0.90230388 0.91904368 0.8753028\n",
      " 0.88432523 0.87781541 0.89253505 0.91818414 0.88571251 0.85232658\n",
      " 0.84569542 0.87281365 0.8743532  0.83732933 0.82506373 0.80782747\n",
      " 0.77685646 0.80155214 0.83904479 0.83485984 0.8084136  0.83978337\n",
      " 0.84682256 0.8468799  0.84984821 0.85503203 0.86182052 0.86974192\n",
      " 0.87846875 0.8877883  0.89757276 0.90775323 0.91829419 0.92917854]\n",
      "12 day output [[0.9403972]]\n",
      "13 day input [0.97234639 0.99790161 0.99601043 0.99863236 0.99303284 0.98812896\n",
      " 1.         0.99881992 0.96249552 0.9607253  0.95329316 0.95065959\n",
      " 0.96737592 0.97256523 0.94625961 0.94775241 0.91424914 0.89691919\n",
      " 0.8773699  0.84423792 0.84900118 0.82802567 0.82547795 0.81632635\n",
      " 0.85748842 0.89019435 0.90230388 0.91904368 0.8753028  0.88432523\n",
      " 0.87781541 0.89253505 0.91818414 0.88571251 0.85232658 0.84569542\n",
      " 0.87281365 0.8743532  0.83732933 0.82506373 0.80782747 0.77685646\n",
      " 0.80155214 0.83904479 0.83485984 0.8084136  0.83978337 0.84682256\n",
      " 0.8468799  0.84984821 0.85503203 0.86182052 0.86974192 0.87846875\n",
      " 0.8877883  0.89757276 0.90775323 0.91829419 0.92917854 0.9403972 ]\n",
      "13 day output [[0.9519479]]\n",
      "14 day input [0.99790161 0.99601043 0.99863236 0.99303284 0.98812896 1.\n",
      " 0.99881992 0.96249552 0.9607253  0.95329316 0.95065959 0.96737592\n",
      " 0.97256523 0.94625961 0.94775241 0.91424914 0.89691919 0.8773699\n",
      " 0.84423792 0.84900118 0.82802567 0.82547795 0.81632635 0.85748842\n",
      " 0.89019435 0.90230388 0.91904368 0.8753028  0.88432523 0.87781541\n",
      " 0.89253505 0.91818414 0.88571251 0.85232658 0.84569542 0.87281365\n",
      " 0.8743532  0.83732933 0.82506373 0.80782747 0.77685646 0.80155214\n",
      " 0.83904479 0.83485984 0.8084136  0.83978337 0.84682256 0.8468799\n",
      " 0.84984821 0.85503203 0.86182052 0.86974192 0.87846875 0.8877883\n",
      " 0.89757276 0.90775323 0.91829419 0.92917854 0.9403972  0.95194793]\n",
      "14 day output [[0.96382886]]\n",
      "15 day input [0.99601043 0.99863236 0.99303284 0.98812896 1.         0.99881992\n",
      " 0.96249552 0.9607253  0.95329316 0.95065959 0.96737592 0.97256523\n",
      " 0.94625961 0.94775241 0.91424914 0.89691919 0.8773699  0.84423792\n",
      " 0.84900118 0.82802567 0.82547795 0.81632635 0.85748842 0.89019435\n",
      " 0.90230388 0.91904368 0.8753028  0.88432523 0.87781541 0.89253505\n",
      " 0.91818414 0.88571251 0.85232658 0.84569542 0.87281365 0.8743532\n",
      " 0.83732933 0.82506373 0.80782747 0.77685646 0.80155214 0.83904479\n",
      " 0.83485984 0.8084136  0.83978337 0.84682256 0.8468799  0.84984821\n",
      " 0.85503203 0.86182052 0.86974192 0.87846875 0.8877883  0.89757276\n",
      " 0.90775323 0.91829419 0.92917854 0.9403972  0.95194793 0.96382886]\n",
      "15 day output [[0.97604024]]\n",
      "16 day input [0.99863236 0.99303284 0.98812896 1.         0.99881992 0.96249552\n",
      " 0.9607253  0.95329316 0.95065959 0.96737592 0.97256523 0.94625961\n",
      " 0.94775241 0.91424914 0.89691919 0.8773699  0.84423792 0.84900118\n",
      " 0.82802567 0.82547795 0.81632635 0.85748842 0.89019435 0.90230388\n",
      " 0.91904368 0.8753028  0.88432523 0.87781541 0.89253505 0.91818414\n",
      " 0.88571251 0.85232658 0.84569542 0.87281365 0.8743532  0.83732933\n",
      " 0.82506373 0.80782747 0.77685646 0.80155214 0.83904479 0.83485984\n",
      " 0.8084136  0.83978337 0.84682256 0.8468799  0.84984821 0.85503203\n",
      " 0.86182052 0.86974192 0.87846875 0.8877883  0.89757276 0.90775323\n",
      " 0.91829419 0.92917854 0.9403972  0.95194793 0.96382886 0.97604024]\n"
     ]
    },
    {
     "name": "stdout",
     "output_type": "stream",
     "text": [
      "16 day output [[0.9885828]]\n",
      "17 day input [0.99303284 0.98812896 1.         0.99881992 0.96249552 0.9607253\n",
      " 0.95329316 0.95065959 0.96737592 0.97256523 0.94625961 0.94775241\n",
      " 0.91424914 0.89691919 0.8773699  0.84423792 0.84900118 0.82802567\n",
      " 0.82547795 0.81632635 0.85748842 0.89019435 0.90230388 0.91904368\n",
      " 0.8753028  0.88432523 0.87781541 0.89253505 0.91818414 0.88571251\n",
      " 0.85232658 0.84569542 0.87281365 0.8743532  0.83732933 0.82506373\n",
      " 0.80782747 0.77685646 0.80155214 0.83904479 0.83485984 0.8084136\n",
      " 0.83978337 0.84682256 0.8468799  0.84984821 0.85503203 0.86182052\n",
      " 0.86974192 0.87846875 0.8877883  0.89757276 0.90775323 0.91829419\n",
      " 0.92917854 0.9403972  0.95194793 0.96382886 0.97604024 0.98858279]\n",
      "17 day output [[1.0014588]]\n",
      "18 day input [0.98812896 1.         0.99881992 0.96249552 0.9607253  0.95329316\n",
      " 0.95065959 0.96737592 0.97256523 0.94625961 0.94775241 0.91424914\n",
      " 0.89691919 0.8773699  0.84423792 0.84900118 0.82802567 0.82547795\n",
      " 0.81632635 0.85748842 0.89019435 0.90230388 0.91904368 0.8753028\n",
      " 0.88432523 0.87781541 0.89253505 0.91818414 0.88571251 0.85232658\n",
      " 0.84569542 0.87281365 0.8743532  0.83732933 0.82506373 0.80782747\n",
      " 0.77685646 0.80155214 0.83904479 0.83485984 0.8084136  0.83978337\n",
      " 0.84682256 0.8468799  0.84984821 0.85503203 0.86182052 0.86974192\n",
      " 0.87846875 0.8877883  0.89757276 0.90775323 0.91829419 0.92917854\n",
      " 0.9403972  0.95194793 0.96382886 0.97604024 0.98858279 1.00145876]\n",
      "18 day output [[1.0146723]]\n",
      "19 day input [1.         0.99881992 0.96249552 0.9607253  0.95329316 0.95065959\n",
      " 0.96737592 0.97256523 0.94625961 0.94775241 0.91424914 0.89691919\n",
      " 0.8773699  0.84423792 0.84900118 0.82802567 0.82547795 0.81632635\n",
      " 0.85748842 0.89019435 0.90230388 0.91904368 0.8753028  0.88432523\n",
      " 0.87781541 0.89253505 0.91818414 0.88571251 0.85232658 0.84569542\n",
      " 0.87281365 0.8743532  0.83732933 0.82506373 0.80782747 0.77685646\n",
      " 0.80155214 0.83904479 0.83485984 0.8084136  0.83978337 0.84682256\n",
      " 0.8468799  0.84984821 0.85503203 0.86182052 0.86974192 0.87846875\n",
      " 0.8877883  0.89757276 0.90775323 0.91829419 0.92917854 0.9403972\n",
      " 0.95194793 0.96382886 0.97604024 0.98858279 1.00145876 1.01467228]\n",
      "19 day output [[1.0282286]]\n",
      "20 day input [0.99881992 0.96249552 0.9607253  0.95329316 0.95065959 0.96737592\n",
      " 0.97256523 0.94625961 0.94775241 0.91424914 0.89691919 0.8773699\n",
      " 0.84423792 0.84900118 0.82802567 0.82547795 0.81632635 0.85748842\n",
      " 0.89019435 0.90230388 0.91904368 0.8753028  0.88432523 0.87781541\n",
      " 0.89253505 0.91818414 0.88571251 0.85232658 0.84569542 0.87281365\n",
      " 0.8743532  0.83732933 0.82506373 0.80782747 0.77685646 0.80155214\n",
      " 0.83904479 0.83485984 0.8084136  0.83978337 0.84682256 0.8468799\n",
      " 0.84984821 0.85503203 0.86182052 0.86974192 0.87846875 0.8877883\n",
      " 0.89757276 0.90775323 0.91829419 0.92917854 0.9403972  0.95194793\n",
      " 0.96382886 0.97604024 0.98858279 1.00145876 1.01467228 1.02822864]\n",
      "20 day output [[1.042134]]\n",
      "21 day input [0.96249552 0.9607253  0.95329316 0.95065959 0.96737592 0.97256523\n",
      " 0.94625961 0.94775241 0.91424914 0.89691919 0.8773699  0.84423792\n",
      " 0.84900118 0.82802567 0.82547795 0.81632635 0.85748842 0.89019435\n",
      " 0.90230388 0.91904368 0.8753028  0.88432523 0.87781541 0.89253505\n",
      " 0.91818414 0.88571251 0.85232658 0.84569542 0.87281365 0.8743532\n",
      " 0.83732933 0.82506373 0.80782747 0.77685646 0.80155214 0.83904479\n",
      " 0.83485984 0.8084136  0.83978337 0.84682256 0.8468799  0.84984821\n",
      " 0.85503203 0.86182052 0.86974192 0.87846875 0.8877883  0.89757276\n",
      " 0.90775323 0.91829419 0.92917854 0.9403972  0.95194793 0.96382886\n",
      " 0.97604024 0.98858279 1.00145876 1.01467228 1.02822864 1.04213405]\n",
      "21 day output [[1.0563991]]\n",
      "22 day input [0.9607253  0.95329316 0.95065959 0.96737592 0.97256523 0.94625961\n",
      " 0.94775241 0.91424914 0.89691919 0.8773699  0.84423792 0.84900118\n",
      " 0.82802567 0.82547795 0.81632635 0.85748842 0.89019435 0.90230388\n",
      " 0.91904368 0.8753028  0.88432523 0.87781541 0.89253505 0.91818414\n",
      " 0.88571251 0.85232658 0.84569542 0.87281365 0.8743532  0.83732933\n",
      " 0.82506373 0.80782747 0.77685646 0.80155214 0.83904479 0.83485984\n",
      " 0.8084136  0.83978337 0.84682256 0.8468799  0.84984821 0.85503203\n",
      " 0.86182052 0.86974192 0.87846875 0.8877883  0.89757276 0.90775323\n",
      " 0.91829419 0.92917854 0.9403972  0.95194793 0.96382886 0.97604024\n",
      " 0.98858279 1.00145876 1.01467228 1.02822864 1.04213405 1.05639911]\n",
      "22 day output [[1.0710349]]\n",
      "23 day input [0.95329316 0.95065959 0.96737592 0.97256523 0.94625961 0.94775241\n",
      " 0.91424914 0.89691919 0.8773699  0.84423792 0.84900118 0.82802567\n",
      " 0.82547795 0.81632635 0.85748842 0.89019435 0.90230388 0.91904368\n",
      " 0.8753028  0.88432523 0.87781541 0.89253505 0.91818414 0.88571251\n",
      " 0.85232658 0.84569542 0.87281365 0.8743532  0.83732933 0.82506373\n",
      " 0.80782747 0.77685646 0.80155214 0.83904479 0.83485984 0.8084136\n",
      " 0.83978337 0.84682256 0.8468799  0.84984821 0.85503203 0.86182052\n",
      " 0.86974192 0.87846875 0.8877883  0.89757276 0.90775323 0.91829419\n",
      " 0.92917854 0.9403972  0.95194793 0.96382886 0.97604024 0.98858279\n",
      " 1.00145876 1.01467228 1.02822864 1.04213405 1.05639911 1.07103491]\n",
      "23 day output [[1.0860518]]\n",
      "24 day input [0.95065959 0.96737592 0.97256523 0.94625961 0.94775241 0.91424914\n",
      " 0.89691919 0.8773699  0.84423792 0.84900118 0.82802567 0.82547795\n",
      " 0.81632635 0.85748842 0.89019435 0.90230388 0.91904368 0.8753028\n",
      " 0.88432523 0.87781541 0.89253505 0.91818414 0.88571251 0.85232658\n",
      " 0.84569542 0.87281365 0.8743532  0.83732933 0.82506373 0.80782747\n",
      " 0.77685646 0.80155214 0.83904479 0.83485984 0.8084136  0.83978337\n",
      " 0.84682256 0.8468799  0.84984821 0.85503203 0.86182052 0.86974192\n",
      " 0.87846875 0.8877883  0.89757276 0.90775323 0.91829419 0.92917854\n",
      " 0.9403972  0.95194793 0.96382886 0.97604024 0.98858279 1.00145876\n",
      " 1.01467228 1.02822864 1.04213405 1.05639911 1.07103491 1.08605182]\n",
      "24 day output [[1.1014634]]\n",
      "25 day input [0.96737592 0.97256523 0.94625961 0.94775241 0.91424914 0.89691919\n",
      " 0.8773699  0.84423792 0.84900118 0.82802567 0.82547795 0.81632635\n",
      " 0.85748842 0.89019435 0.90230388 0.91904368 0.8753028  0.88432523\n",
      " 0.87781541 0.89253505 0.91818414 0.88571251 0.85232658 0.84569542\n",
      " 0.87281365 0.8743532  0.83732933 0.82506373 0.80782747 0.77685646\n",
      " 0.80155214 0.83904479 0.83485984 0.8084136  0.83978337 0.84682256\n",
      " 0.8468799  0.84984821 0.85503203 0.86182052 0.86974192 0.87846875\n",
      " 0.8877883  0.89757276 0.90775323 0.91829419 0.92917854 0.9403972\n",
      " 0.95194793 0.96382886 0.97604024 0.98858279 1.00145876 1.01467228\n",
      " 1.02822864 1.04213405 1.05639911 1.07103491 1.08605182 1.10146344]\n",
      "25 day output [[1.1172832]]\n",
      "26 day input [0.97256523 0.94625961 0.94775241 0.91424914 0.89691919 0.8773699\n",
      " 0.84423792 0.84900118 0.82802567 0.82547795 0.81632635 0.85748842\n",
      " 0.89019435 0.90230388 0.91904368 0.8753028  0.88432523 0.87781541\n",
      " 0.89253505 0.91818414 0.88571251 0.85232658 0.84569542 0.87281365\n",
      " 0.8743532  0.83732933 0.82506373 0.80782747 0.77685646 0.80155214\n",
      " 0.83904479 0.83485984 0.8084136  0.83978337 0.84682256 0.8468799\n",
      " 0.84984821 0.85503203 0.86182052 0.86974192 0.87846875 0.8877883\n",
      " 0.89757276 0.90775323 0.91829419 0.92917854 0.9403972  0.95194793\n",
      " 0.96382886 0.97604024 0.98858279 1.00145876 1.01467228 1.02822864\n",
      " 1.04213405 1.05639911 1.07103491 1.08605182 1.10146344 1.11728323]\n",
      "26 day output [[1.1335247]]\n",
      "27 day input [0.94625961 0.94775241 0.91424914 0.89691919 0.8773699  0.84423792\n",
      " 0.84900118 0.82802567 0.82547795 0.81632635 0.85748842 0.89019435\n",
      " 0.90230388 0.91904368 0.8753028  0.88432523 0.87781541 0.89253505\n",
      " 0.91818414 0.88571251 0.85232658 0.84569542 0.87281365 0.8743532\n",
      " 0.83732933 0.82506373 0.80782747 0.77685646 0.80155214 0.83904479\n",
      " 0.83485984 0.8084136  0.83978337 0.84682256 0.8468799  0.84984821\n",
      " 0.85503203 0.86182052 0.86974192 0.87846875 0.8877883  0.89757276\n",
      " 0.90775323 0.91829419 0.92917854 0.9403972  0.95194793 0.96382886\n",
      " 0.97604024 0.98858279 1.00145876 1.01467228 1.02822864 1.04213405\n",
      " 1.05639911 1.07103491 1.08605182 1.10146344 1.11728323 1.13352466]\n",
      "27 day output [[1.1502029]]\n",
      "28 day input [0.94775241 0.91424914 0.89691919 0.8773699  0.84423792 0.84900118\n",
      " 0.82802567 0.82547795 0.81632635 0.85748842 0.89019435 0.90230388\n",
      " 0.91904368 0.8753028  0.88432523 0.87781541 0.89253505 0.91818414\n",
      " 0.88571251 0.85232658 0.84569542 0.87281365 0.8743532  0.83732933\n",
      " 0.82506373 0.80782747 0.77685646 0.80155214 0.83904479 0.83485984\n",
      " 0.8084136  0.83978337 0.84682256 0.8468799  0.84984821 0.85503203\n",
      " 0.86182052 0.86974192 0.87846875 0.8877883  0.89757276 0.90775323\n",
      " 0.91829419 0.92917854 0.9403972  0.95194793 0.96382886 0.97604024\n",
      " 0.98858279 1.00145876 1.01467228 1.02822864 1.04213405 1.05639911\n",
      " 1.07103491 1.08605182 1.10146344 1.11728323 1.13352466 1.15020287]\n",
      "28 day output [[1.1673336]]\n",
      "29 day input [0.91424914 0.89691919 0.8773699  0.84423792 0.84900118 0.82802567\n",
      " 0.82547795 0.81632635 0.85748842 0.89019435 0.90230388 0.91904368\n",
      " 0.8753028  0.88432523 0.87781541 0.89253505 0.91818414 0.88571251\n",
      " 0.85232658 0.84569542 0.87281365 0.8743532  0.83732933 0.82506373\n",
      " 0.80782747 0.77685646 0.80155214 0.83904479 0.83485984 0.8084136\n",
      " 0.83978337 0.84682256 0.8468799  0.84984821 0.85503203 0.86182052\n",
      " 0.86974192 0.87846875 0.8877883  0.89757276 0.90775323 0.91829419\n",
      " 0.92917854 0.9403972  0.95194793 0.96382886 0.97604024 0.98858279\n",
      " 1.00145876 1.01467228 1.02822864 1.04213405 1.05639911 1.07103491\n",
      " 1.08605182 1.10146344 1.11728323 1.13352466 1.15020287 1.1673336 ]\n",
      "29 day output [[1.1849297]]\n"
     ]
    }
   ],
   "source": [
    "#predict for next 30 days\n",
    "from numpy import array\n",
    "\n",
    "lst_output=[]\n",
    "n_steps=60\n",
    "i=0\n",
    "\n",
    "while(i<30):\n",
    "    \n",
    "    if(len(temp_input)>60):\n",
    "        x_input=np.array(temp_input[1:])\n",
    "        print(\"{} day input {}\".format(i,x_input))\n",
    "        x_input=x_input.reshape(1,-1)\n",
    "        x_input=x_input.reshape((1, n_steps, 1))\n",
    "        yhat = model.predict(x_input, verbose=0)\n",
    "        print(\"{} day output {}\".format(i,yhat))\n",
    "        temp_input.extend(yhat[0].tolist())\n",
    "        temp_input=temp_input[1:]\n",
    "        lst_output.extend(yhat.tolist())\n",
    "        i+=1\n",
    "    else:\n",
    "        x_input = x_input.reshape((1, n_steps, 1))\n",
    "        yhat=model.predict(x_input, verbose=0)\n",
    "        print(yhat[0])\n",
    "        temp_input.extend(yhat[0].tolist())\n",
    "        print(len(temp_input))\n",
    "        lst_output.extend(yhat.tolist())\n",
    "        i+=1"
   ]
  },
  {
   "cell_type": "code",
   "execution_count": 165,
   "id": "af0b2ed3",
   "metadata": {},
   "outputs": [
    {
     "data": {
      "text/plain": [
       "30"
      ]
     },
     "execution_count": 165,
     "metadata": {},
     "output_type": "execute_result"
    }
   ],
   "source": [
    "len(lst_output)"
   ]
  },
  {
   "cell_type": "code",
   "execution_count": 169,
   "id": "82052e05",
   "metadata": {},
   "outputs": [
    {
     "data": {
      "text/plain": [
       "(1260, 1)"
      ]
     },
     "execution_count": 169,
     "metadata": {},
     "output_type": "execute_result"
    }
   ],
   "source": [
    "day_new=np.arange(1,61)\n",
    "day_pred=np.arange(61,91)\n",
    "\n",
    "df.shape"
   ]
  },
  {
   "cell_type": "code",
   "execution_count": 172,
   "id": "a5228a81",
   "metadata": {},
   "outputs": [
    {
     "data": {
      "text/plain": [
       "[<matplotlib.lines.Line2D at 0x21ec6256ee0>]"
      ]
     },
     "execution_count": 172,
     "metadata": {},
     "output_type": "execute_result"
    },
    {
     "data": {
      "text/plain": [
       "[<matplotlib.lines.Line2D at 0x21ec5c8dca0>]"
      ]
     },
     "execution_count": 172,
     "metadata": {},
     "output_type": "execute_result"
    },
    {
     "data": {
      "image/png": "[encoded data removed]",
      "text/plain": [
       "<Figure size 432x288 with 1 Axes>"
      ]
     },
     "metadata": {
      "needs_background": "light"
     },
     "output_type": "display_data"
    }
   ],
   "source": [
    "plt.plot(day_new, min_max_scaler.inverse_transform(df[1200:]))\n",
    "plt.plot(day_pred, min_max_scaler.inverse_transform(lst_output))"
   ]
  },
  {
   "cell_type": "code",
   "execution_count": 174,
   "id": "180a3a15",
   "metadata": {},
   "outputs": [
    {
     "data": {
      "text/plain": [
       "array([[4404.55445688],\n",
       "       [4404.70119828],\n",
       "       [4412.29758231],\n",
       "       [4425.56379757],\n",
       "       [4442.93663633],\n",
       "       [4463.20876167],\n",
       "       [4485.54213074],\n",
       "       [4509.392336  ],\n",
       "       [4534.43233636],\n",
       "       [4560.48579807],\n",
       "       [4587.46180859],\n",
       "       [4615.31658956],\n",
       "       [4644.02695523],\n",
       "       [4673.58710916],\n",
       "       [4703.99232268],\n",
       "       [4735.24320595],\n",
       "       [4767.3415894 ],\n",
       "       [4800.2932695 ],\n",
       "       [4834.10877133],\n",
       "       [4868.80167077],\n",
       "       [4904.38783176],\n",
       "       [4940.89440602],\n",
       "       [4978.3497656 ],\n",
       "       [5016.78045208],\n",
       "       [5056.22124409],\n",
       "       [5096.70661516],\n",
       "       [5138.27103886],\n",
       "       [5180.9532598 ],\n",
       "       [5224.79354795],\n",
       "       [5269.8248515 ]])"
      ]
     },
     "execution_count": 174,
     "metadata": {},
     "output_type": "execute_result"
    }
   ],
   "source": [
    "min_max_scaler.inverse_transform(lst_output)"
   ]
  },
  {
   "cell_type": "code",
   "execution_count": 182,
   "id": "5266c481",
   "metadata": {},
   "outputs": [
    {
     "name": "stdout",
     "output_type": "stream",
     "text": [
      "Model: \"sequential_3\"\n",
      "_________________________________________________________________\n",
      " Layer (type)                Output Shape              Param #   \n",
      "=================================================================\n",
      " lstm_5 (LSTM)               (None, 60, 50)            10400     \n",
      "                                                                 \n",
      " lstm_6 (LSTM)               (None, 50)                20200     \n",
      "                                                                 \n",
      " dense_3 (Dense)             (None, 25)                1275      \n",
      "                                                                 \n",
      " dense_4 (Dense)             (None, 1)                 26        \n",
      "                                                                 \n",
      "=================================================================\n",
      "Total params: 31,901\n",
      "Trainable params: 31,901\n",
      "Non-trainable params: 0\n",
      "_________________________________________________________________\n"
     ]
    }
   ],
   "source": [
    "# Re run with first model\n",
    "\n",
    "model1.summary()"
   ]
  },
  {
   "cell_type": "code",
   "execution_count": 183,
   "id": "a3ff564a",
   "metadata": {},
   "outputs": [
    {
     "data": {
      "text/plain": [
       "(1, 60)"
      ]
     },
     "execution_count": 183,
     "metadata": {},
     "output_type": "execute_result"
    }
   ],
   "source": [
    "x_input = test_data[252:].reshape(1,-1)\n",
    "\n",
    "x_input.shape\n",
    "\n",
    "temp_input=list(x_input)\n",
    "temp_input=temp_input[0].tolist()"
   ]
  },
  {
   "cell_type": "code",
   "execution_count": 184,
   "id": "94044aab",
   "metadata": {},
   "outputs": [
    {
     "name": "stdout",
     "output_type": "stream",
     "text": [
      "[0.83972377]\n",
      "61\n",
      "1 day input [0.95709137 0.96274164 0.94954991 0.96696571 0.95014386 0.93651424\n",
      " 0.96611781 0.95002652 0.93125873 0.91069725 0.9424303  0.96092468\n",
      " 0.97234639 0.99790161 0.99601043 0.99863236 0.99303284 0.98812896\n",
      " 1.         0.99881992 0.96249552 0.9607253  0.95329316 0.95065959\n",
      " 0.96737592 0.97256523 0.94625961 0.94775241 0.91424914 0.89691919\n",
      " 0.8773699  0.84423792 0.84900118 0.82802567 0.82547795 0.81632635\n",
      " 0.85748842 0.89019435 0.90230388 0.91904368 0.8753028  0.88432523\n",
      " 0.87781541 0.89253505 0.91818414 0.88571251 0.85232658 0.84569542\n",
      " 0.87281365 0.8743532  0.83732933 0.82506373 0.80782747 0.77685646\n",
      " 0.80155214 0.83904479 0.83485984 0.8084136  0.83978337 0.83972377]\n",
      "1 day output [[0.8386626]]\n",
      "2 day input [0.96274164 0.94954991 0.96696571 0.95014386 0.93651424 0.96611781\n",
      " 0.95002652 0.93125873 0.91069725 0.9424303  0.96092468 0.97234639\n",
      " 0.99790161 0.99601043 0.99863236 0.99303284 0.98812896 1.\n",
      " 0.99881992 0.96249552 0.9607253  0.95329316 0.95065959 0.96737592\n",
      " 0.97256523 0.94625961 0.94775241 0.91424914 0.89691919 0.8773699\n",
      " 0.84423792 0.84900118 0.82802567 0.82547795 0.81632635 0.85748842\n",
      " 0.89019435 0.90230388 0.91904368 0.8753028  0.88432523 0.87781541\n",
      " 0.89253505 0.91818414 0.88571251 0.85232658 0.84569542 0.87281365\n",
      " 0.8743532  0.83732933 0.82506373 0.80782747 0.77685646 0.80155214\n",
      " 0.83904479 0.83485984 0.8084136  0.83978337 0.83972377 0.83866262]\n",
      "2 day output [[0.8387827]]\n",
      "3 day input [0.94954991 0.96696571 0.95014386 0.93651424 0.96611781 0.95002652\n",
      " 0.93125873 0.91069725 0.9424303  0.96092468 0.97234639 0.99790161\n",
      " 0.99601043 0.99863236 0.99303284 0.98812896 1.         0.99881992\n",
      " 0.96249552 0.9607253  0.95329316 0.95065959 0.96737592 0.97256523\n",
      " 0.94625961 0.94775241 0.91424914 0.89691919 0.8773699  0.84423792\n",
      " 0.84900118 0.82802567 0.82547795 0.81632635 0.85748842 0.89019435\n",
      " 0.90230388 0.91904368 0.8753028  0.88432523 0.87781541 0.89253505\n",
      " 0.91818414 0.88571251 0.85232658 0.84569542 0.87281365 0.8743532\n",
      " 0.83732933 0.82506373 0.80782747 0.77685646 0.80155214 0.83904479\n",
      " 0.83485984 0.8084136  0.83978337 0.83972377 0.83866262 0.83878273]\n",
      "3 day output [[0.83976644]]\n",
      "4 day input [0.96696571 0.95014386 0.93651424 0.96611781 0.95002652 0.93125873\n",
      " 0.91069725 0.9424303  0.96092468 0.97234639 0.99790161 0.99601043\n",
      " 0.99863236 0.99303284 0.98812896 1.         0.99881992 0.96249552\n",
      " 0.9607253  0.95329316 0.95065959 0.96737592 0.97256523 0.94625961\n",
      " 0.94775241 0.91424914 0.89691919 0.8773699  0.84423792 0.84900118\n",
      " 0.82802567 0.82547795 0.81632635 0.85748842 0.89019435 0.90230388\n",
      " 0.91904368 0.8753028  0.88432523 0.87781541 0.89253505 0.91818414\n",
      " 0.88571251 0.85232658 0.84569542 0.87281365 0.8743532  0.83732933\n",
      " 0.82506373 0.80782747 0.77685646 0.80155214 0.83904479 0.83485984\n",
      " 0.8084136  0.83978337 0.83972377 0.83866262 0.83878273 0.83976644]\n",
      "4 day output [[0.8413919]]\n",
      "5 day input [0.95014386 0.93651424 0.96611781 0.95002652 0.93125873 0.91069725\n",
      " 0.9424303  0.96092468 0.97234639 0.99790161 0.99601043 0.99863236\n",
      " 0.99303284 0.98812896 1.         0.99881992 0.96249552 0.9607253\n",
      " 0.95329316 0.95065959 0.96737592 0.97256523 0.94625961 0.94775241\n",
      " 0.91424914 0.89691919 0.8773699  0.84423792 0.84900118 0.82802567\n",
      " 0.82547795 0.81632635 0.85748842 0.89019435 0.90230388 0.91904368\n",
      " 0.8753028  0.88432523 0.87781541 0.89253505 0.91818414 0.88571251\n",
      " 0.85232658 0.84569542 0.87281365 0.8743532  0.83732933 0.82506373\n",
      " 0.80782747 0.77685646 0.80155214 0.83904479 0.83485984 0.8084136\n",
      " 0.83978337 0.83972377 0.83866262 0.83878273 0.83976644 0.84139192]\n",
      "5 day output [[0.84350526]]\n",
      "6 day input [0.93651424 0.96611781 0.95002652 0.93125873 0.91069725 0.9424303\n",
      " 0.96092468 0.97234639 0.99790161 0.99601043 0.99863236 0.99303284\n",
      " 0.98812896 1.         0.99881992 0.96249552 0.9607253  0.95329316\n",
      " 0.95065959 0.96737592 0.97256523 0.94625961 0.94775241 0.91424914\n",
      " 0.89691919 0.8773699  0.84423792 0.84900118 0.82802567 0.82547795\n",
      " 0.81632635 0.85748842 0.89019435 0.90230388 0.91904368 0.8753028\n",
      " 0.88432523 0.87781541 0.89253505 0.91818414 0.88571251 0.85232658\n",
      " 0.84569542 0.87281365 0.8743532  0.83732933 0.82506373 0.80782747\n",
      " 0.77685646 0.80155214 0.83904479 0.83485984 0.8084136  0.83978337\n",
      " 0.83972377 0.83866262 0.83878273 0.83976644 0.84139192 0.84350526]\n",
      "6 day output [[0.8459982]]\n",
      "7 day input [0.96611781 0.95002652 0.93125873 0.91069725 0.9424303  0.96092468\n",
      " 0.97234639 0.99790161 0.99601043 0.99863236 0.99303284 0.98812896\n",
      " 1.         0.99881992 0.96249552 0.9607253  0.95329316 0.95065959\n",
      " 0.96737592 0.97256523 0.94625961 0.94775241 0.91424914 0.89691919\n",
      " 0.8773699  0.84423792 0.84900118 0.82802567 0.82547795 0.81632635\n",
      " 0.85748842 0.89019435 0.90230388 0.91904368 0.8753028  0.88432523\n",
      " 0.87781541 0.89253505 0.91818414 0.88571251 0.85232658 0.84569542\n",
      " 0.87281365 0.8743532  0.83732933 0.82506373 0.80782747 0.77685646\n",
      " 0.80155214 0.83904479 0.83485984 0.8084136  0.83978337 0.83972377\n",
      " 0.83866262 0.83878273 0.83976644 0.84139192 0.84350526 0.84599823]\n",
      "7 day output [[0.8487958]]\n",
      "8 day input [0.95002652 0.93125873 0.91069725 0.9424303  0.96092468 0.97234639\n",
      " 0.99790161 0.99601043 0.99863236 0.99303284 0.98812896 1.\n",
      " 0.99881992 0.96249552 0.9607253  0.95329316 0.95065959 0.96737592\n",
      " 0.97256523 0.94625961 0.94775241 0.91424914 0.89691919 0.8773699\n",
      " 0.84423792 0.84900118 0.82802567 0.82547795 0.81632635 0.85748842\n",
      " 0.89019435 0.90230388 0.91904368 0.8753028  0.88432523 0.87781541\n",
      " 0.89253505 0.91818414 0.88571251 0.85232658 0.84569542 0.87281365\n",
      " 0.8743532  0.83732933 0.82506373 0.80782747 0.77685646 0.80155214\n",
      " 0.83904479 0.83485984 0.8084136  0.83978337 0.83972377 0.83866262\n",
      " 0.83878273 0.83976644 0.84139192 0.84350526 0.84599823 0.84879577]\n",
      "8 day output [[0.85184455]]\n",
      "9 day input [0.93125873 0.91069725 0.9424303  0.96092468 0.97234639 0.99790161\n",
      " 0.99601043 0.99863236 0.99303284 0.98812896 1.         0.99881992\n",
      " 0.96249552 0.9607253  0.95329316 0.95065959 0.96737592 0.97256523\n",
      " 0.94625961 0.94775241 0.91424914 0.89691919 0.8773699  0.84423792\n",
      " 0.84900118 0.82802567 0.82547795 0.81632635 0.85748842 0.89019435\n",
      " 0.90230388 0.91904368 0.8753028  0.88432523 0.87781541 0.89253505\n",
      " 0.91818414 0.88571251 0.85232658 0.84569542 0.87281365 0.8743532\n",
      " 0.83732933 0.82506373 0.80782747 0.77685646 0.80155214 0.83904479\n",
      " 0.83485984 0.8084136  0.83978337 0.83972377 0.83866262 0.83878273\n",
      " 0.83976644 0.84139192 0.84350526 0.84599823 0.84879577 0.85184455]\n",
      "9 day output [[0.8551072]]\n",
      "10 day input [0.91069725 0.9424303  0.96092468 0.97234639 0.99790161 0.99601043\n",
      " 0.99863236 0.99303284 0.98812896 1.         0.99881992 0.96249552\n",
      " 0.9607253  0.95329316 0.95065959 0.96737592 0.97256523 0.94625961\n",
      " 0.94775241 0.91424914 0.89691919 0.8773699  0.84423792 0.84900118\n",
      " 0.82802567 0.82547795 0.81632635 0.85748842 0.89019435 0.90230388\n",
      " 0.91904368 0.8753028  0.88432523 0.87781541 0.89253505 0.91818414\n",
      " 0.88571251 0.85232658 0.84569542 0.87281365 0.8743532  0.83732933\n",
      " 0.82506373 0.80782747 0.77685646 0.80155214 0.83904479 0.83485984\n",
      " 0.8084136  0.83978337 0.83972377 0.83866262 0.83878273 0.83976644\n",
      " 0.84139192 0.84350526 0.84599823 0.84879577 0.85184455 0.85510719]\n",
      "10 day output [[0.8585572]]\n",
      "11 day input [0.9424303  0.96092468 0.97234639 0.99790161 0.99601043 0.99863236\n",
      " 0.99303284 0.98812896 1.         0.99881992 0.96249552 0.9607253\n",
      " 0.95329316 0.95065959 0.96737592 0.97256523 0.94625961 0.94775241\n",
      " 0.91424914 0.89691919 0.8773699  0.84423792 0.84900118 0.82802567\n",
      " 0.82547795 0.81632635 0.85748842 0.89019435 0.90230388 0.91904368\n",
      " 0.8753028  0.88432523 0.87781541 0.89253505 0.91818414 0.88571251\n",
      " 0.85232658 0.84569542 0.87281365 0.8743532  0.83732933 0.82506373\n",
      " 0.80782747 0.77685646 0.80155214 0.83904479 0.83485984 0.8084136\n",
      " 0.83978337 0.83972377 0.83866262 0.83878273 0.83976644 0.84139192\n",
      " 0.84350526 0.84599823 0.84879577 0.85184455 0.85510719 0.85855722]\n",
      "11 day output [[0.8621762]]\n",
      "12 day input [0.96092468 0.97234639 0.99790161 0.99601043 0.99863236 0.99303284\n",
      " 0.98812896 1.         0.99881992 0.96249552 0.9607253  0.95329316\n",
      " 0.95065959 0.96737592 0.97256523 0.94625961 0.94775241 0.91424914\n",
      " 0.89691919 0.8773699  0.84423792 0.84900118 0.82802567 0.82547795\n",
      " 0.81632635 0.85748842 0.89019435 0.90230388 0.91904368 0.8753028\n",
      " 0.88432523 0.87781541 0.89253505 0.91818414 0.88571251 0.85232658\n",
      " 0.84569542 0.87281365 0.8743532  0.83732933 0.82506373 0.80782747\n",
      " 0.77685646 0.80155214 0.83904479 0.83485984 0.8084136  0.83978337\n",
      " 0.83972377 0.83866262 0.83878273 0.83976644 0.84139192 0.84350526\n",
      " 0.84599823 0.84879577 0.85184455 0.85510719 0.85855722 0.86217618]\n",
      "12 day output [[0.8659505]]\n",
      "13 day input [0.97234639 0.99790161 0.99601043 0.99863236 0.99303284 0.98812896\n",
      " 1.         0.99881992 0.96249552 0.9607253  0.95329316 0.95065959\n",
      " 0.96737592 0.97256523 0.94625961 0.94775241 0.91424914 0.89691919\n",
      " 0.8773699  0.84423792 0.84900118 0.82802567 0.82547795 0.81632635\n",
      " 0.85748842 0.89019435 0.90230388 0.91904368 0.8753028  0.88432523\n",
      " 0.87781541 0.89253505 0.91818414 0.88571251 0.85232658 0.84569542\n",
      " 0.87281365 0.8743532  0.83732933 0.82506373 0.80782747 0.77685646\n",
      " 0.80155214 0.83904479 0.83485984 0.8084136  0.83978337 0.83972377\n",
      " 0.83866262 0.83878273 0.83976644 0.84139192 0.84350526 0.84599823\n",
      " 0.84879577 0.85184455 0.85510719 0.85855722 0.86217618 0.86595052]\n",
      "13 day output [[0.8698705]]\n",
      "14 day input [0.99790161 0.99601043 0.99863236 0.99303284 0.98812896 1.\n",
      " 0.99881992 0.96249552 0.9607253  0.95329316 0.95065959 0.96737592\n",
      " 0.97256523 0.94625961 0.94775241 0.91424914 0.89691919 0.8773699\n",
      " 0.84423792 0.84900118 0.82802567 0.82547795 0.81632635 0.85748842\n",
      " 0.89019435 0.90230388 0.91904368 0.8753028  0.88432523 0.87781541\n",
      " 0.89253505 0.91818414 0.88571251 0.85232658 0.84569542 0.87281365\n",
      " 0.8743532  0.83732933 0.82506373 0.80782747 0.77685646 0.80155214\n",
      " 0.83904479 0.83485984 0.8084136  0.83978337 0.83972377 0.83866262\n",
      " 0.83878273 0.83976644 0.84139192 0.84350526 0.84599823 0.84879577\n",
      " 0.85184455 0.85510719 0.85855722 0.86217618 0.86595052 0.86987048]\n",
      "14 day output [[0.8739284]]\n",
      "15 day input [0.99601043 0.99863236 0.99303284 0.98812896 1.         0.99881992\n",
      " 0.96249552 0.9607253  0.95329316 0.95065959 0.96737592 0.97256523\n",
      " 0.94625961 0.94775241 0.91424914 0.89691919 0.8773699  0.84423792\n",
      " 0.84900118 0.82802567 0.82547795 0.81632635 0.85748842 0.89019435\n",
      " 0.90230388 0.91904368 0.8753028  0.88432523 0.87781541 0.89253505\n",
      " 0.91818414 0.88571251 0.85232658 0.84569542 0.87281365 0.8743532\n",
      " 0.83732933 0.82506373 0.80782747 0.77685646 0.80155214 0.83904479\n",
      " 0.83485984 0.8084136  0.83978337 0.83972377 0.83866262 0.83878273\n",
      " 0.83976644 0.84139192 0.84350526 0.84599823 0.84879577 0.85184455\n",
      " 0.85510719 0.85855722 0.86217618 0.86595052 0.86987048 0.87392843]\n",
      "15 day output [[0.8781193]]\n",
      "16 day input [0.99863236 0.99303284 0.98812896 1.         0.99881992 0.96249552\n",
      " 0.9607253  0.95329316 0.95065959 0.96737592 0.97256523 0.94625961\n",
      " 0.94775241 0.91424914 0.89691919 0.8773699  0.84423792 0.84900118\n",
      " 0.82802567 0.82547795 0.81632635 0.85748842 0.89019435 0.90230388\n",
      " 0.91904368 0.8753028  0.88432523 0.87781541 0.89253505 0.91818414\n",
      " 0.88571251 0.85232658 0.84569542 0.87281365 0.8743532  0.83732933\n",
      " 0.82506373 0.80782747 0.77685646 0.80155214 0.83904479 0.83485984\n",
      " 0.8084136  0.83978337 0.83972377 0.83866262 0.83878273 0.83976644\n",
      " 0.84139192 0.84350526 0.84599823 0.84879577 0.85184455 0.85510719\n",
      " 0.85855722 0.86217618 0.86595052 0.86987048 0.87392843 0.87811929]\n"
     ]
    },
    {
     "name": "stdout",
     "output_type": "stream",
     "text": [
      "16 day output [[0.88243836]]\n",
      "17 day input [0.99303284 0.98812896 1.         0.99881992 0.96249552 0.9607253\n",
      " 0.95329316 0.95065959 0.96737592 0.97256523 0.94625961 0.94775241\n",
      " 0.91424914 0.89691919 0.8773699  0.84423792 0.84900118 0.82802567\n",
      " 0.82547795 0.81632635 0.85748842 0.89019435 0.90230388 0.91904368\n",
      " 0.8753028  0.88432523 0.87781541 0.89253505 0.91818414 0.88571251\n",
      " 0.85232658 0.84569542 0.87281365 0.8743532  0.83732933 0.82506373\n",
      " 0.80782747 0.77685646 0.80155214 0.83904479 0.83485984 0.8084136\n",
      " 0.83978337 0.83972377 0.83866262 0.83878273 0.83976644 0.84139192\n",
      " 0.84350526 0.84599823 0.84879577 0.85184455 0.85510719 0.85855722\n",
      " 0.86217618 0.86595052 0.86987048 0.87392843 0.87811929 0.88243836]\n",
      "17 day output [[0.88688225]]\n",
      "18 day input [0.98812896 1.         0.99881992 0.96249552 0.9607253  0.95329316\n",
      " 0.95065959 0.96737592 0.97256523 0.94625961 0.94775241 0.91424914\n",
      " 0.89691919 0.8773699  0.84423792 0.84900118 0.82802567 0.82547795\n",
      " 0.81632635 0.85748842 0.89019435 0.90230388 0.91904368 0.8753028\n",
      " 0.88432523 0.87781541 0.89253505 0.91818414 0.88571251 0.85232658\n",
      " 0.84569542 0.87281365 0.8743532  0.83732933 0.82506373 0.80782747\n",
      " 0.77685646 0.80155214 0.83904479 0.83485984 0.8084136  0.83978337\n",
      " 0.83972377 0.83866262 0.83878273 0.83976644 0.84139192 0.84350526\n",
      " 0.84599823 0.84879577 0.85184455 0.85510719 0.85855722 0.86217618\n",
      " 0.86595052 0.86987048 0.87392843 0.87811929 0.88243836 0.88688225]\n",
      "18 day output [[0.8914478]]\n",
      "19 day input [1.         0.99881992 0.96249552 0.9607253  0.95329316 0.95065959\n",
      " 0.96737592 0.97256523 0.94625961 0.94775241 0.91424914 0.89691919\n",
      " 0.8773699  0.84423792 0.84900118 0.82802567 0.82547795 0.81632635\n",
      " 0.85748842 0.89019435 0.90230388 0.91904368 0.8753028  0.88432523\n",
      " 0.87781541 0.89253505 0.91818414 0.88571251 0.85232658 0.84569542\n",
      " 0.87281365 0.8743532  0.83732933 0.82506373 0.80782747 0.77685646\n",
      " 0.80155214 0.83904479 0.83485984 0.8084136  0.83978337 0.83972377\n",
      " 0.83866262 0.83878273 0.83976644 0.84139192 0.84350526 0.84599823\n",
      " 0.84879577 0.85184455 0.85510719 0.85855722 0.86217618 0.86595052\n",
      " 0.86987048 0.87392843 0.87811929 0.88243836 0.88688225 0.89144778]\n",
      "19 day output [[0.8961324]]\n",
      "20 day input [0.99881992 0.96249552 0.9607253  0.95329316 0.95065959 0.96737592\n",
      " 0.97256523 0.94625961 0.94775241 0.91424914 0.89691919 0.8773699\n",
      " 0.84423792 0.84900118 0.82802567 0.82547795 0.81632635 0.85748842\n",
      " 0.89019435 0.90230388 0.91904368 0.8753028  0.88432523 0.87781541\n",
      " 0.89253505 0.91818414 0.88571251 0.85232658 0.84569542 0.87281365\n",
      " 0.8743532  0.83732933 0.82506373 0.80782747 0.77685646 0.80155214\n",
      " 0.83904479 0.83485984 0.8084136  0.83978337 0.83972377 0.83866262\n",
      " 0.83878273 0.83976644 0.84139192 0.84350526 0.84599823 0.84879577\n",
      " 0.85184455 0.85510719 0.85855722 0.86217618 0.86595052 0.86987048\n",
      " 0.87392843 0.87811929 0.88243836 0.88688225 0.89144778 0.89613241]\n",
      "20 day output [[0.9009339]]\n",
      "21 day input [0.96249552 0.9607253  0.95329316 0.95065959 0.96737592 0.97256523\n",
      " 0.94625961 0.94775241 0.91424914 0.89691919 0.8773699  0.84423792\n",
      " 0.84900118 0.82802567 0.82547795 0.81632635 0.85748842 0.89019435\n",
      " 0.90230388 0.91904368 0.8753028  0.88432523 0.87781541 0.89253505\n",
      " 0.91818414 0.88571251 0.85232658 0.84569542 0.87281365 0.8743532\n",
      " 0.83732933 0.82506373 0.80782747 0.77685646 0.80155214 0.83904479\n",
      " 0.83485984 0.8084136  0.83978337 0.83972377 0.83866262 0.83878273\n",
      " 0.83976644 0.84139192 0.84350526 0.84599823 0.84879577 0.85184455\n",
      " 0.85510719 0.85855722 0.86217618 0.86595052 0.86987048 0.87392843\n",
      " 0.87811929 0.88243836 0.88688225 0.89144778 0.89613241 0.90093392]\n",
      "21 day output [[0.9058498]]\n",
      "22 day input [0.9607253  0.95329316 0.95065959 0.96737592 0.97256523 0.94625961\n",
      " 0.94775241 0.91424914 0.89691919 0.8773699  0.84423792 0.84900118\n",
      " 0.82802567 0.82547795 0.81632635 0.85748842 0.89019435 0.90230388\n",
      " 0.91904368 0.8753028  0.88432523 0.87781541 0.89253505 0.91818414\n",
      " 0.88571251 0.85232658 0.84569542 0.87281365 0.8743532  0.83732933\n",
      " 0.82506373 0.80782747 0.77685646 0.80155214 0.83904479 0.83485984\n",
      " 0.8084136  0.83978337 0.83972377 0.83866262 0.83878273 0.83976644\n",
      " 0.84139192 0.84350526 0.84599823 0.84879577 0.85184455 0.85510719\n",
      " 0.85855722 0.86217618 0.86595052 0.86987048 0.87392843 0.87811929\n",
      " 0.88243836 0.88688225 0.89144778 0.89613241 0.90093392 0.90584981]\n",
      "22 day output [[0.910879]]\n",
      "23 day input [0.95329316 0.95065959 0.96737592 0.97256523 0.94625961 0.94775241\n",
      " 0.91424914 0.89691919 0.8773699  0.84423792 0.84900118 0.82802567\n",
      " 0.82547795 0.81632635 0.85748842 0.89019435 0.90230388 0.91904368\n",
      " 0.8753028  0.88432523 0.87781541 0.89253505 0.91818414 0.88571251\n",
      " 0.85232658 0.84569542 0.87281365 0.8743532  0.83732933 0.82506373\n",
      " 0.80782747 0.77685646 0.80155214 0.83904479 0.83485984 0.8084136\n",
      " 0.83978337 0.83972377 0.83866262 0.83878273 0.83976644 0.84139192\n",
      " 0.84350526 0.84599823 0.84879577 0.85184455 0.85510719 0.85855722\n",
      " 0.86217618 0.86595052 0.86987048 0.87392843 0.87811929 0.88243836\n",
      " 0.88688225 0.89144778 0.89613241 0.90093392 0.90584981 0.91087902]\n",
      "23 day output [[0.916019]]\n",
      "24 day input [0.95065959 0.96737592 0.97256523 0.94625961 0.94775241 0.91424914\n",
      " 0.89691919 0.8773699  0.84423792 0.84900118 0.82802567 0.82547795\n",
      " 0.81632635 0.85748842 0.89019435 0.90230388 0.91904368 0.8753028\n",
      " 0.88432523 0.87781541 0.89253505 0.91818414 0.88571251 0.85232658\n",
      " 0.84569542 0.87281365 0.8743532  0.83732933 0.82506373 0.80782747\n",
      " 0.77685646 0.80155214 0.83904479 0.83485984 0.8084136  0.83978337\n",
      " 0.83972377 0.83866262 0.83878273 0.83976644 0.84139192 0.84350526\n",
      " 0.84599823 0.84879577 0.85184455 0.85510719 0.85855722 0.86217618\n",
      " 0.86595052 0.86987048 0.87392843 0.87811929 0.88243836 0.88688225\n",
      " 0.89144778 0.89613241 0.90093392 0.90584981 0.91087902 0.91601902]\n",
      "24 day output [[0.92126876]]\n",
      "25 day input [0.96737592 0.97256523 0.94625961 0.94775241 0.91424914 0.89691919\n",
      " 0.8773699  0.84423792 0.84900118 0.82802567 0.82547795 0.81632635\n",
      " 0.85748842 0.89019435 0.90230388 0.91904368 0.8753028  0.88432523\n",
      " 0.87781541 0.89253505 0.91818414 0.88571251 0.85232658 0.84569542\n",
      " 0.87281365 0.8743532  0.83732933 0.82506373 0.80782747 0.77685646\n",
      " 0.80155214 0.83904479 0.83485984 0.8084136  0.83978337 0.83972377\n",
      " 0.83866262 0.83878273 0.83976644 0.84139192 0.84350526 0.84599823\n",
      " 0.84879577 0.85184455 0.85510719 0.85855722 0.86217618 0.86595052\n",
      " 0.86987048 0.87392843 0.87811929 0.88243836 0.88688225 0.89144778\n",
      " 0.89613241 0.90093392 0.90584981 0.91087902 0.91601902 0.92126876]\n",
      "25 day output [[0.92662656]]\n",
      "26 day input [0.97256523 0.94625961 0.94775241 0.91424914 0.89691919 0.8773699\n",
      " 0.84423792 0.84900118 0.82802567 0.82547795 0.81632635 0.85748842\n",
      " 0.89019435 0.90230388 0.91904368 0.8753028  0.88432523 0.87781541\n",
      " 0.89253505 0.91818414 0.88571251 0.85232658 0.84569542 0.87281365\n",
      " 0.8743532  0.83732933 0.82506373 0.80782747 0.77685646 0.80155214\n",
      " 0.83904479 0.83485984 0.8084136  0.83978337 0.83972377 0.83866262\n",
      " 0.83878273 0.83976644 0.84139192 0.84350526 0.84599823 0.84879577\n",
      " 0.85184455 0.85510719 0.85855722 0.86217618 0.86595052 0.86987048\n",
      " 0.87392843 0.87811929 0.88243836 0.88688225 0.89144778 0.89613241\n",
      " 0.90093392 0.90584981 0.91087902 0.91601902 0.92126876 0.92662656]\n",
      "26 day output [[0.9320915]]\n",
      "27 day input [0.94625961 0.94775241 0.91424914 0.89691919 0.8773699  0.84423792\n",
      " 0.84900118 0.82802567 0.82547795 0.81632635 0.85748842 0.89019435\n",
      " 0.90230388 0.91904368 0.8753028  0.88432523 0.87781541 0.89253505\n",
      " 0.91818414 0.88571251 0.85232658 0.84569542 0.87281365 0.8743532\n",
      " 0.83732933 0.82506373 0.80782747 0.77685646 0.80155214 0.83904479\n",
      " 0.83485984 0.8084136  0.83978337 0.83972377 0.83866262 0.83878273\n",
      " 0.83976644 0.84139192 0.84350526 0.84599823 0.84879577 0.85184455\n",
      " 0.85510719 0.85855722 0.86217618 0.86595052 0.86987048 0.87392843\n",
      " 0.87811929 0.88243836 0.88688225 0.89144778 0.89613241 0.90093392\n",
      " 0.90584981 0.91087902 0.91601902 0.92126876 0.92662656 0.93209147]\n",
      "27 day output [[0.93766236]]\n",
      "28 day input [0.94775241 0.91424914 0.89691919 0.8773699  0.84423792 0.84900118\n",
      " 0.82802567 0.82547795 0.81632635 0.85748842 0.89019435 0.90230388\n",
      " 0.91904368 0.8753028  0.88432523 0.87781541 0.89253505 0.91818414\n",
      " 0.88571251 0.85232658 0.84569542 0.87281365 0.8743532  0.83732933\n",
      " 0.82506373 0.80782747 0.77685646 0.80155214 0.83904479 0.83485984\n",
      " 0.8084136  0.83978337 0.83972377 0.83866262 0.83878273 0.83976644\n",
      " 0.84139192 0.84350526 0.84599823 0.84879577 0.85184455 0.85510719\n",
      " 0.85855722 0.86217618 0.86595052 0.86987048 0.87392843 0.87811929\n",
      " 0.88243836 0.88688225 0.89144778 0.89613241 0.90093392 0.90584981\n",
      " 0.91087902 0.91601902 0.92126876 0.92662656 0.93209147 0.93766236]\n",
      "28 day output [[0.94333804]]\n",
      "29 day input [0.91424914 0.89691919 0.8773699  0.84423792 0.84900118 0.82802567\n",
      " 0.82547795 0.81632635 0.85748842 0.89019435 0.90230388 0.91904368\n",
      " 0.8753028  0.88432523 0.87781541 0.89253505 0.91818414 0.88571251\n",
      " 0.85232658 0.84569542 0.87281365 0.8743532  0.83732933 0.82506373\n",
      " 0.80782747 0.77685646 0.80155214 0.83904479 0.83485984 0.8084136\n",
      " 0.83978337 0.83972377 0.83866262 0.83878273 0.83976644 0.84139192\n",
      " 0.84350526 0.84599823 0.84879577 0.85184455 0.85510719 0.85855722\n",
      " 0.86217618 0.86595052 0.86987048 0.87392843 0.87811929 0.88243836\n",
      " 0.88688225 0.89144778 0.89613241 0.90093392 0.90584981 0.91087902\n",
      " 0.91601902 0.92126876 0.92662656 0.93209147 0.93766236 0.94333804]\n",
      "29 day output [[0.9491179]]\n"
     ]
    }
   ],
   "source": [
    "#predict for next 30 days\n",
    "from numpy import array\n",
    "\n",
    "lst_output=[]\n",
    "n_steps=60\n",
    "i=0\n",
    "\n",
    "while(i<30):\n",
    "    \n",
    "    if(len(temp_input)>60):\n",
    "        x_input=np.array(temp_input[1:])\n",
    "        print(\"{} day input {}\".format(i,x_input))\n",
    "        x_input=x_input.reshape(1,-1)\n",
    "        x_input=x_input.reshape((1, n_steps, 1))\n",
    "        yhat = model1.predict(x_input, verbose=0)\n",
    "        print(\"{} day output {}\".format(i,yhat))\n",
    "        temp_input.extend(yhat[0].tolist())\n",
    "        temp_input=temp_input[1:]\n",
    "        lst_output.extend(yhat.tolist())\n",
    "        i+=1\n",
    "    else:\n",
    "        x_input = x_input.reshape((1, n_steps, 1))\n",
    "        yhat=model1.predict(x_input, verbose=0)\n",
    "        print(yhat[0])\n",
    "        temp_input.extend(yhat[0].tolist())\n",
    "        print(len(temp_input))\n",
    "        lst_output.extend(yhat.tolist())\n",
    "        i+=1"
   ]
  },
  {
   "cell_type": "code",
   "execution_count": 190,
   "id": "54b2b8c6",
   "metadata": {},
   "outputs": [
    {
     "data": {
      "image/png": "[encoded data removed]",
      "text/plain": [
       "<Figure size 1152x576 with 1 Axes>"
      ]
     },
     "metadata": {
      "needs_background": "light"
     },
     "output_type": "display_data"
    }
   ],
   "source": [
    "plt.figure(figsize=(16,8))\n",
    "plt.title('Model')\n",
    "plt.plot(day_new, min_max_scaler.inverse_transform(df[1200:]))\n",
    "plt.plot(day_pred, min_max_scaler.inverse_transform(lst_output))\n",
    "plt.legend(['Historical', 'Predictions'])\n",
    "plt.xlabel('Date', fontsize=18)\n",
    "plt.ylabel('Close Price USD $', fontsize=18)\n",
    "plt.show;"
   ]
  },
  {
   "cell_type": "markdown",
   "id": "ef218003",
   "metadata": {},
   "source": [
    "Both LSTM models have not captured volatility of sp500 index."
   ]
  },
  {
   "cell_type": "code",
   "execution_count": null,
   "id": "9d1a8fac",
   "metadata": {},
   "outputs": [],
   "source": []
  }
 ],
 "metadata": {
  "kernelspec": {
   "display_name": "Python 3 (ipykernel)",
   "language": "python",
   "name": "python3"
  },
  "language_info": {
   "codemirror_mode": {
    "name": "ipython",
    "version": 3
   },
   "file_extension": ".py",
   "mimetype": "text/x-python",
   "name": "python",
   "nbconvert_exporter": "python",
   "pygments_lexer": "ipython3",
   "version": "3.9.7"
  }
 },
 "nbformat": 4,
 "nbformat_minor": 5
}
